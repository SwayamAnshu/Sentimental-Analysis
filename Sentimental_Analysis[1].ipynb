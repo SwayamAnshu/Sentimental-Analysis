{
 "cells": [
  {
   "cell_type": "markdown",
   "id": "81c52bc7",
   "metadata": {},
   "source": [
    "## By Gugun, Garvit, Swayam and Govind\n"
   ]
  },
  {
   "cell_type": "markdown",
   "id": "ddad16c4",
   "metadata": {},
   "source": [
    "Sentiment Analysis for Online Reviews\n"
   ]
  },
  {
   "cell_type": "code",
   "execution_count": 1,
   "id": "71d7b35e",
   "metadata": {},
   "outputs": [],
   "source": [
    "import pandas as pd\n",
    "import numpy as np"
   ]
  },
  {
   "cell_type": "code",
   "execution_count": 2,
   "id": "0a845036",
   "metadata": {},
   "outputs": [],
   "source": [
    "df = pd.read_csv(r\"C:\\Users\\swaya\\OneDrive\\Desktop\\sen_analysis_project\\file.csv\",encoding='utf-8')"
   ]
  },
  {
   "cell_type": "code",
   "execution_count": 3,
   "id": "20f592d1",
   "metadata": {},
   "outputs": [
    {
     "data": {
      "text/plain": [
       "(219294, 3)"
      ]
     },
     "execution_count": 3,
     "metadata": {},
     "output_type": "execute_result"
    }
   ],
   "source": [
    "df.shape"
   ]
  },
  {
   "cell_type": "code",
   "execution_count": 4,
   "id": "578b3f53",
   "metadata": {},
   "outputs": [
    {
     "data": {
      "text/html": [
       "<div>\n",
       "<style scoped>\n",
       "    .dataframe tbody tr th:only-of-type {\n",
       "        vertical-align: middle;\n",
       "    }\n",
       "\n",
       "    .dataframe tbody tr th {\n",
       "        vertical-align: top;\n",
       "    }\n",
       "\n",
       "    .dataframe thead th {\n",
       "        text-align: right;\n",
       "    }\n",
       "</style>\n",
       "<table border=\"1\" class=\"dataframe\">\n",
       "  <thead>\n",
       "    <tr style=\"text-align: right;\">\n",
       "      <th></th>\n",
       "      <th>Unnamed: 0</th>\n",
       "      <th>tweets</th>\n",
       "      <th>labels</th>\n",
       "    </tr>\n",
       "  </thead>\n",
       "  <tbody>\n",
       "    <tr>\n",
       "      <th>0</th>\n",
       "      <td>0</td>\n",
       "      <td>ChatGPT: Optimizing Language Models for Dialog...</td>\n",
       "      <td>neutral</td>\n",
       "    </tr>\n",
       "    <tr>\n",
       "      <th>1</th>\n",
       "      <td>1</td>\n",
       "      <td>Try talking with ChatGPT, our new AI system wh...</td>\n",
       "      <td>good</td>\n",
       "    </tr>\n",
       "    <tr>\n",
       "      <th>2</th>\n",
       "      <td>2</td>\n",
       "      <td>ChatGPT: Optimizing Language Models for Dialog...</td>\n",
       "      <td>neutral</td>\n",
       "    </tr>\n",
       "    <tr>\n",
       "      <th>3</th>\n",
       "      <td>3</td>\n",
       "      <td>THRILLED to share that ChatGPT, our new model ...</td>\n",
       "      <td>good</td>\n",
       "    </tr>\n",
       "    <tr>\n",
       "      <th>4</th>\n",
       "      <td>4</td>\n",
       "      <td>As of 2 minutes ago, @OpenAI released their ne...</td>\n",
       "      <td>bad</td>\n",
       "    </tr>\n",
       "  </tbody>\n",
       "</table>\n",
       "</div>"
      ],
      "text/plain": [
       "   Unnamed: 0                                             tweets   labels\n",
       "0           0  ChatGPT: Optimizing Language Models for Dialog...  neutral\n",
       "1           1  Try talking with ChatGPT, our new AI system wh...     good\n",
       "2           2  ChatGPT: Optimizing Language Models for Dialog...  neutral\n",
       "3           3  THRILLED to share that ChatGPT, our new model ...     good\n",
       "4           4  As of 2 minutes ago, @OpenAI released their ne...      bad"
      ]
     },
     "execution_count": 4,
     "metadata": {},
     "output_type": "execute_result"
    }
   ],
   "source": [
    "df.head()"
   ]
  },
  {
   "cell_type": "code",
   "execution_count": 5,
   "id": "b79b7ef2",
   "metadata": {},
   "outputs": [
    {
     "data": {
      "text/html": [
       "<div>\n",
       "<style scoped>\n",
       "    .dataframe tbody tr th:only-of-type {\n",
       "        vertical-align: middle;\n",
       "    }\n",
       "\n",
       "    .dataframe tbody tr th {\n",
       "        vertical-align: top;\n",
       "    }\n",
       "\n",
       "    .dataframe thead th {\n",
       "        text-align: right;\n",
       "    }\n",
       "</style>\n",
       "<table border=\"1\" class=\"dataframe\">\n",
       "  <thead>\n",
       "    <tr style=\"text-align: right;\">\n",
       "      <th></th>\n",
       "      <th>Unnamed: 0</th>\n",
       "      <th>tweets</th>\n",
       "      <th>labels</th>\n",
       "    </tr>\n",
       "  </thead>\n",
       "  <tbody>\n",
       "    <tr>\n",
       "      <th>219289</th>\n",
       "      <td>219289</td>\n",
       "      <td>Other Software Projects Are Now Trying to Repl...</td>\n",
       "      <td>bad</td>\n",
       "    </tr>\n",
       "    <tr>\n",
       "      <th>219290</th>\n",
       "      <td>219290</td>\n",
       "      <td>I asked #ChatGPT to write a #NYE Joke for SEOs...</td>\n",
       "      <td>good</td>\n",
       "    </tr>\n",
       "    <tr>\n",
       "      <th>219291</th>\n",
       "      <td>219291</td>\n",
       "      <td>chatgpt is being disassembled until it can onl...</td>\n",
       "      <td>bad</td>\n",
       "    </tr>\n",
       "    <tr>\n",
       "      <th>219292</th>\n",
       "      <td>219292</td>\n",
       "      <td>2023 predictions by #chatGPT. Nothing really s...</td>\n",
       "      <td>bad</td>\n",
       "    </tr>\n",
       "    <tr>\n",
       "      <th>219293</th>\n",
       "      <td>219293</td>\n",
       "      <td>From ChatGPT, neat stuff https://t.co/qjjUF2Z2m0</td>\n",
       "      <td>neutral</td>\n",
       "    </tr>\n",
       "  </tbody>\n",
       "</table>\n",
       "</div>"
      ],
      "text/plain": [
       "        Unnamed: 0                                             tweets   labels\n",
       "219289      219289  Other Software Projects Are Now Trying to Repl...      bad\n",
       "219290      219290  I asked #ChatGPT to write a #NYE Joke for SEOs...     good\n",
       "219291      219291  chatgpt is being disassembled until it can onl...      bad\n",
       "219292      219292  2023 predictions by #chatGPT. Nothing really s...      bad\n",
       "219293      219293   From ChatGPT, neat stuff https://t.co/qjjUF2Z2m0  neutral"
      ]
     },
     "execution_count": 5,
     "metadata": {},
     "output_type": "execute_result"
    }
   ],
   "source": [
    "df.tail()"
   ]
  },
  {
   "cell_type": "markdown",
   "id": "600f369d",
   "metadata": {},
   "source": [
    "# Data cleaning"
   ]
  },
  {
   "cell_type": "code",
   "execution_count": 6,
   "id": "2e70c08d",
   "metadata": {},
   "outputs": [
    {
     "data": {
      "text/html": [
       "<div>\n",
       "<style scoped>\n",
       "    .dataframe tbody tr th:only-of-type {\n",
       "        vertical-align: middle;\n",
       "    }\n",
       "\n",
       "    .dataframe tbody tr th {\n",
       "        vertical-align: top;\n",
       "    }\n",
       "\n",
       "    .dataframe thead th {\n",
       "        text-align: right;\n",
       "    }\n",
       "</style>\n",
       "<table border=\"1\" class=\"dataframe\">\n",
       "  <thead>\n",
       "    <tr style=\"text-align: right;\">\n",
       "      <th></th>\n",
       "      <th>Unnamed: 0</th>\n",
       "      <th>tweets</th>\n",
       "      <th>labels</th>\n",
       "    </tr>\n",
       "  </thead>\n",
       "  <tbody>\n",
       "    <tr>\n",
       "      <th>219289</th>\n",
       "      <td>219289</td>\n",
       "      <td>Other Software Projects Are Now Trying to Repl...</td>\n",
       "      <td>bad</td>\n",
       "    </tr>\n",
       "    <tr>\n",
       "      <th>219290</th>\n",
       "      <td>219290</td>\n",
       "      <td>I asked #ChatGPT to write a #NYE Joke for SEOs...</td>\n",
       "      <td>good</td>\n",
       "    </tr>\n",
       "    <tr>\n",
       "      <th>219291</th>\n",
       "      <td>219291</td>\n",
       "      <td>chatgpt is being disassembled until it can onl...</td>\n",
       "      <td>bad</td>\n",
       "    </tr>\n",
       "    <tr>\n",
       "      <th>219292</th>\n",
       "      <td>219292</td>\n",
       "      <td>2023 predictions by #chatGPT. Nothing really s...</td>\n",
       "      <td>bad</td>\n",
       "    </tr>\n",
       "    <tr>\n",
       "      <th>219293</th>\n",
       "      <td>219293</td>\n",
       "      <td>From ChatGPT, neat stuff https://t.co/qjjUF2Z2m0</td>\n",
       "      <td>neutral</td>\n",
       "    </tr>\n",
       "  </tbody>\n",
       "</table>\n",
       "</div>"
      ],
      "text/plain": [
       "        Unnamed: 0                                             tweets   labels\n",
       "219289      219289  Other Software Projects Are Now Trying to Repl...      bad\n",
       "219290      219290  I asked #ChatGPT to write a #NYE Joke for SEOs...     good\n",
       "219291      219291  chatgpt is being disassembled until it can onl...      bad\n",
       "219292      219292  2023 predictions by #chatGPT. Nothing really s...      bad\n",
       "219293      219293   From ChatGPT, neat stuff https://t.co/qjjUF2Z2m0  neutral"
      ]
     },
     "execution_count": 6,
     "metadata": {},
     "output_type": "execute_result"
    }
   ],
   "source": [
    "df.tail()"
   ]
  },
  {
   "cell_type": "code",
   "execution_count": 7,
   "id": "3a384dd7",
   "metadata": {},
   "outputs": [
    {
     "data": {
      "text/plain": [
       "False"
      ]
     },
     "execution_count": 7,
     "metadata": {},
     "output_type": "execute_result"
    }
   ],
   "source": [
    "df.isnull().values.any()"
   ]
  },
  {
   "cell_type": "code",
   "execution_count": 8,
   "id": "9f88a577",
   "metadata": {},
   "outputs": [
    {
     "name": "stdout",
     "output_type": "stream",
     "text": [
      "object\n"
     ]
    }
   ],
   "source": [
    "d_type = df[\"labels\"].dtype\n",
    "print(d_type)"
   ]
  },
  {
   "cell_type": "code",
   "execution_count": 9,
   "id": "6fdf32f8",
   "metadata": {},
   "outputs": [
    {
     "name": "stdout",
     "output_type": "stream",
     "text": [
      "object\n"
     ]
    }
   ],
   "source": [
    "d_type = df[\"tweets\"].dtype\n",
    "print(d_type)"
   ]
  },
  {
   "cell_type": "code",
   "execution_count": 10,
   "id": "9f209eee",
   "metadata": {},
   "outputs": [
    {
     "name": "stdout",
     "output_type": "stream",
     "text": [
      "labels\n",
      "bad        107796\n",
      "good        56011\n",
      "neutral     55487\n",
      "Name: count, dtype: int64\n"
     ]
    }
   ],
   "source": [
    "values_count= df[\"labels\"].value_counts()\n",
    "print(values_count)"
   ]
  },
  {
   "cell_type": "code",
   "execution_count": 11,
   "id": "0eea84ab",
   "metadata": {},
   "outputs": [
    {
     "data": {
      "text/plain": [
       "<Axes: xlabel='labels', ylabel='count'>"
      ]
     },
     "execution_count": 11,
     "metadata": {},
     "output_type": "execute_result"
    },
    {
     "data": {
      "image/png": "[encoded data removed]",
      "text/plain": [
       "<Figure size 640x480 with 1 Axes>"
      ]
     },
     "metadata": {},
     "output_type": "display_data"
    }
   ],
   "source": [
    "import seaborn as sns\n",
    "sns.countplot(x='labels', data=df)\n"
   ]
  },
  {
   "cell_type": "markdown",
   "id": "2f8c6349",
   "metadata": {},
   "source": [
    "# Data Preprocessing "
   ]
  },
  {
   "cell_type": "code",
   "execution_count": 12,
   "id": "1360e4d0",
   "metadata": {},
   "outputs": [
    {
     "data": {
      "text/plain": [
       "'ChatGPT: Optimizing Language Models for Dialogue https://t.co/GLEbMoKN6w #AI #MachineLearning #DataScience #ArtificialIntelligence\\\\n\\\\nTrending AI/ML Article Identified &amp; Digested via Granola; a Machine-Driven RSS Bot by Ramsey Elbasheer https://t.co/RprmAXUp34'"
      ]
     },
     "execution_count": 12,
     "metadata": {},
     "output_type": "execute_result"
    }
   ],
   "source": [
    "df['tweets'][2]"
   ]
  },
  {
   "cell_type": "code",
   "execution_count": 13,
   "id": "a683cf67",
   "metadata": {
    "scrolled": true
   },
   "outputs": [],
   "source": [
    "import nltk\n",
    "import re\n",
    "from nltk.corpus import stopwords\n",
    "from keras.models import Sequential\n",
    "from keras_preprocessing.text import one_hot, Tokenizer\n",
    "from keras.utils import pad_sequences\n",
    "from sklearn.model_selection import train_test_split\n",
    "# from tensorflow.keras.preprocessing.sequence import pad_sequences\n",
    "# from keras.utils import pad_sequences"
   ]
  },
  {
   "cell_type": "code",
   "execution_count": 14,
   "id": "a9f3552a",
   "metadata": {
    "scrolled": true
   },
   "outputs": [],
   "source": [
    "def remove(text):\n",
    "    # Define a regular expression pattern to match URLs and HTML tags\n",
    "    pattern =re.compile(r'https?://\\S+|www\\.\\S+|<[^\\>]+>|\\n')\n",
    "    # Remove URLs and HTML tags from the text using the sub() function\n",
    "    return pattern.sub('', text)\n",
    "\n",
    "# def remove_tag(text):\n",
    "#     TAG_RE = re.compile(r'<[^\\>]+>')\n",
    "#     return TAG_RE.sub('',text)\n",
    "\n",
    "\n",
    "\n",
    "\n",
    "# def remove_links(text):\n",
    "#     url_pattern = r'https?://\\S+|www\\.\\S+'\n",
    "#     return re.sub(url_pattern, '', text)\n"
   ]
  },
  {
   "cell_type": "code",
   "execution_count": 15,
   "id": "2807583d",
   "metadata": {},
   "outputs": [
    {
     "name": "stderr",
     "output_type": "stream",
     "text": [
      "[nltk_data] Downloading package stopwords to\n",
      "[nltk_data]     C:\\Users\\swaya\\AppData\\Roaming\\nltk_data...\n",
      "[nltk_data]   Package stopwords is already up-to-date!\n"
     ]
    },
    {
     "data": {
      "text/plain": [
       "True"
      ]
     },
     "execution_count": 15,
     "metadata": {},
     "output_type": "execute_result"
    }
   ],
   "source": [
    "nltk.download('stopwords')"
   ]
  },
  {
   "cell_type": "code",
   "execution_count": 16,
   "id": "5c52d89d",
   "metadata": {},
   "outputs": [],
   "source": [
    "def preprocess_text(sen):\n",
    "    #make the sentences in the lower case \n",
    "    sentence = sen.lower()\n",
    "    \n",
    "    #remove the html tags and links\n",
    "    sentence = remove(sentence)\n",
    "    \n",
    "    #remove the punctuations and numbers\n",
    "    sentence = re.sub('[^a-zA-Z]',\" \",sentence)\n",
    "    \n",
    "    #remove the single character\n",
    "    sentence =re.sub(r'\\s+[a-zA-Z]\\s+',\" \",sentence)\n",
    "    \n",
    "    #remove multiple spaces\n",
    "    sentence = re.sub(r'\\s+',\" \",sentence)\n",
    "    \n",
    "    pattern = re.compile(r'\\b(' + r'|'.join(stopwords.words ('english')) + r')\\b\\s*')\n",
    "    sentence = pattern.sub('', sentence)\n",
    "    return sentence"
   ]
  },
  {
   "cell_type": "code",
   "execution_count": 17,
   "id": "581a16a3",
   "metadata": {},
   "outputs": [],
   "source": [
    "#calling the funciton to preprocess the text\n",
    "\n",
    "x=[]\n",
    "sentences = list(df['tweets'])\n",
    "for sen in sentences:\n",
    "    x.append(preprocess_text(sen))"
   ]
  },
  {
   "cell_type": "code",
   "execution_count": 18,
   "id": "ee32cd2c",
   "metadata": {},
   "outputs": [
    {
     "data": {
      "text/plain": [
       "'try talking chatgpt new ai system optimized dialogue feedback help us improve '"
      ]
     },
     "execution_count": 18,
     "metadata": {},
     "output_type": "execute_result"
    }
   ],
   "source": [
    "x[1]\n",
    "#cleaned up data"
   ]
  },
  {
   "cell_type": "code",
   "execution_count": 122,
   "id": "fa005dae",
   "metadata": {},
   "outputs": [],
   "source": [
    "from numpy import array"
   ]
  },
  {
   "cell_type": "code",
   "execution_count": 123,
   "id": "98e4a1b4",
   "metadata": {},
   "outputs": [],
   "source": [
    "#conveting sentiments lables into 0, 1, 2.\n",
    "#where, 0:neutral, 1:good, 2:bad.\n",
    "\n",
    "y = df[\"labels\"]\n",
    "y = np.array(list(map(lambda x: 1 if x==\"good\" else 2 if x==\"neutral\" else 0,y)))"
   ]
  },
  {
   "cell_type": "code",
   "execution_count": 124,
   "id": "93e7d538",
   "metadata": {},
   "outputs": [],
   "source": [
    "#splitting of data sets\n",
    "x_train,x_test,y_train,y_test=train_test_split(x,y,test_size=0.20,random_state=42)\n",
    "#Train set used to train our deep learning model.\n",
    "#Test set used to evaluate how well our model perform."
   ]
  },
  {
   "cell_type": "markdown",
   "id": "da776dc9",
   "metadata": {},
   "source": [
    "# Preparing Embedding Layer\n",
    "## ---first step to deep learning models in keras"
   ]
  },
  {
   "cell_type": "code",
   "execution_count": 125,
   "id": "6c6f6db7",
   "metadata": {},
   "outputs": [],
   "source": [
    "from tensorflow.keras.preprocessing.text import Tokenizer\n",
    "from tensorflow.keras.preprocessing.sequence import pad_sequences\n",
    "from tensorflow.keras.models import Sequential\n",
    "from tensorflow.keras.layers import Flatten, GlobalMaxPooling1D, Embedding, Conv1D, LSTM, Activation, Dropout, Dense\n"
   ]
  },
  {
   "cell_type": "code",
   "execution_count": 126,
   "id": "01771fe7",
   "metadata": {},
   "outputs": [],
   "source": [
    "#this part used to convert words into numeric form\n",
    "#using tokenizer function from keras, method fit_on_text trains the tokenizer \n",
    "#method text_to_sequence converts sentences into numeric form\n",
    "\n",
    "word_tokenizer=Tokenizer()\n",
    "word_tokenizer.fit_on_texts(x_train)\n",
    "\n",
    "x_train=word_tokenizer.texts_to_sequences(x_train)\n",
    "x_test=word_tokenizer.texts_to_sequences(x_test)\n",
    "\n"
   ]
  },
  {
   "cell_type": "code",
   "execution_count": 127,
   "id": "3bf4d030",
   "metadata": {},
   "outputs": [
    {
     "data": {
      "text/plain": [
       "82084"
      ]
     },
     "execution_count": 127,
     "metadata": {},
     "output_type": "execute_result"
    }
   ],
   "source": [
    "# Adding 1 to store dimensions for words for which no pretrained word embeddings exist\n",
    "\n",
    "vocab_length = len(word_tokenizer.word_index) + 1\n",
    "\n",
    "vocab_length"
   ]
  },
  {
   "cell_type": "code",
   "execution_count": 128,
   "id": "39181f20",
   "metadata": {},
   "outputs": [],
   "source": [
    "# Padding all reviews to fixed length 100\n",
    "\n",
    "maxlen = 100\n",
    "\n",
    "#The argument padding='post' ensures that padding happens after the original text (not before).\n",
    "\n",
    "x_train = pad_sequences(x_train, padding='post', maxlen=maxlen)\n",
    "x_test = pad_sequences(x_test, padding='post', maxlen=maxlen)"
   ]
  },
  {
   "cell_type": "code",
   "execution_count": 129,
   "id": "da9de69f",
   "metadata": {},
   "outputs": [],
   "source": [
    "# Load GloVe word embeddings and create an Embeddings Dictionary\n",
    "\n",
    "from numpy import asarray\n",
    "from numpy import zeros\n",
    "\n",
    "embeddings_dictionary = dict()\n",
    "glove_file = open('a2_glove.6B.100d (1).txt', encoding=\"utf8\")\n",
    "\n",
    "for line in glove_file:     \n",
    "    records = line.split()\n",
    "    word = records[0]\n",
    "    vector_dimensions = asarray(records[1:], dtype='float32')\n",
    "    embeddings_dictionary [word] = vector_dimensions\n",
    "glove_file.close()"
   ]
  },
  {
   "cell_type": "markdown",
   "id": "4e38d63e",
   "metadata": {},
   "source": [
    "1. What is GloVe?\n",
    "GloVe (Global Vectors for Word Representation) is a pre-trained system that takes a word (like \"apple\" or \"cat\") and gives you a list of numbers (a vector) that represents that word in a meaningful way. These lists of numbers (or word embeddings) help machines understand the meaning of words by capturing their relationship to other words.\n",
    "\n",
    "You can think of this vector like coordinates on a map: similar words are located close together (e.g., \"king\" and \"queen\"), and dissimilar words are far apart (e.g., \"apple\" and \"sky\").\n",
    "\n",
    "2. Purpose of This Code:\n",
    "The goal of this code is to load the GloVe pre-trained word embeddings into memory so that you can later use them in your machine learning model.\n",
    "\n",
    "GloVe File: a2_glove.6B.100d (1).txt is a file that contains many words along with their corresponding vectors (lists of numbers). Each word has a 100-dimensional vector in this case.\n",
    "3. Explanation of Each Line:\n",
    "1. embeddings_dictionary = dict()\n",
    "This creates an empty dictionary called embeddings_dictionary. In simple terms, a dictionary is like a real-life dictionary where you have words and their meanings. Here, each word (like \"cat\") will be the key, and its corresponding vector (the list of numbers) will be the value.\n",
    "\n",
    "2. glove_file = open('a2_glove.6B.100d (1).txt', encoding=\"utf8\")\n",
    "This line opens the GloVe file (a2_glove.6B.100d (1).txt). This file contains rows where each row is a word followed by its vector.\n",
    "\n",
    "For example, a row in the file might look like this:\n",
    "bash\n",
    "Copy code\n",
    "cat 0.321 -0.123 0.908 ... (100 numbers total)\n",
    "Here, the word is \"cat,\" and the numbers next to it represent its vector. This vector gives information about how \"cat\" is related to other words in the language.\n",
    "\n",
    "3. for line in glove_file:\n",
    "This line starts a loop that goes through the GloVe file line by line. Each line contains one word and its corresponding list of numbers (the vector).\n",
    "\n",
    "4. records = line.split()\n",
    "The line.split() function splits the line into individual pieces.\n",
    "The first piece will be the word (e.g., \"cat\").\n",
    "The rest of the pieces will be the numbers (the vector).\n",
    "For example, if the line is:\n",
    "\n",
    "code:\n",
    "cat 0.321 -0.123 0.908 ...\n",
    "After splitting, you get:\n",
    "\n",
    "code:\n",
    "[\"cat\", \"0.321\", \"-0.123\", \"0.908\", ...]\n",
    "5. word = records[0]\n",
    "Here, we take the first item of the split line, which is the word (e.g., \"cat\"), and store it in the variable word.\n",
    "\n",
    "6. vector_dimensions = asarray(records[1:], dtype='float32')\n",
    "This line takes the rest of the items in the list (from records[1:]), which are the numbers representing the word's vector, and converts them into a NumPy array (a fancy way to handle numbers efficiently in Python).\n",
    "\n",
    "The asarray() function is just a way to convert the list of numbers into a format that can be used for mathematical operations.\n",
    "\n",
    "The dtype='float32' means that the numbers will be stored as floating-point numbers, which are numbers with decimals (e.g., 0.321).\n",
    "\n",
    "So after this line, vector_dimensions will contain the list of numbers like this:\n",
    "\n",
    "code:\n",
    "[0.321, -0.123, 0.908, ...]  (100 numbers total)\n",
    "7. embeddings_dictionary[word] = vector_dimensions\n",
    "This line stores the word and its vector into the dictionary.\n",
    "\n",
    "For example:\n",
    "\n",
    "The key (word) is \"cat.\"\n",
    "The value (vector) is [0.321, -0.123, 0.908, ...].\n",
    "So after this step, your embeddings_dictionary will look something like:\n",
    "\n",
    "python code:\n",
    "{\n",
    "  \"cat\": [0.321, -0.123, 0.908, ...],\n",
    "  \"dog\": [0.654, -0.098, 0.456, ...],\n",
    "  \"king\": [0.765, 0.123, -0.345, ...],\n",
    "  ...\n",
    "}\n",
    "This dictionary allows you to quickly look up any word and get its corresponding vector.\n",
    "\n",
    "8. glove_file.close()\n",
    "This line closes the file when you’re done reading it. It’s a good habit to close files after you’re finished with them to free up system resources.\n",
    "\n",
    "Final Overview:\n",
    "This entire block of code is reading a pre-trained word embedding file (GloVe), extracting each word and its vector, and storing them in a Python dictionary. Later, this dictionary can be used to look up the vector for any word in your dataset.\n",
    "\n",
    "For example:\n",
    "\n",
    "If you want to know the vector for the word \"apple,\" you can simply do:\n",
    "python\n",
    "Copy code\n",
    "apple_vector = embeddings_dictionary[\"apple\"]\n",
    "This vector will then be used in your model to represent the meaning of the word \"apple\" in a numerical form."
   ]
  },
  {
   "cell_type": "code",
   "execution_count": 130,
   "id": "66a32133",
   "metadata": {},
   "outputs": [],
   "source": [
    "# Create Embedding Matrix having 100 columns \n",
    "# Containing 100-dimensional GloVe word embeddings for all words in our corpus.\n",
    "\n",
    "embedding_matrix = zeros((vocab_length, 100))\n",
    "for word, index in word_tokenizer.word_index.items():\n",
    "    embedding_vector = embeddings_dictionary.get(word)\n",
    "    if embedding_vector is not None:\n",
    "        embedding_matrix[index] = embedding_vector"
   ]
  },
  {
   "cell_type": "markdown",
   "id": "ecfbaf1d",
   "metadata": {},
   "source": [
    "embedding_matrix = zeros((vocab_length, 100))\n",
    "This line creates an empty matrix (basically, a big table of numbers) with vocab_length rows and 100 columns.\n",
    "\n",
    "What are vocab_length and 100?\n",
    "\n",
    "vocab_length: This is the number of unique words in your dataset (the total number of words that your tokenizer has seen and indexed). Each word in your vocabulary will get its own row in the matrix.\n",
    "100: This represents the size of the word vectors. Since you are using GloVe embeddings that have 100 dimensions, each word will be represented by 100 numbers.\n",
    "The zeros() function simply fills the entire matrix with zeros to start with, because initially, you haven’t yet added any word vectors to it.\n",
    "\n",
    "Example:\n",
    "If vocab_length = 5000, this matrix will be 5000 rows and 100 columns, and at the start, it will look like this (filled with zeros):\n",
    "\n",
    "\n",
    "[[0, 0, 0, ..., 0],  # Row for the first word\n",
    " [0, 0, 0, ..., 0],  # Row for the second word\n",
    " ...\n",
    " [0, 0, 0, ..., 0]]  # Row for the 5000th word\n",
    "\n",
    "for word, index in word_tokenizer.word_index.items():\n",
    "This line starts a loop that goes through each word in your vocabulary (the words your tokenizer has seen in your dataset).\n",
    "\n",
    "word_tokenizer.word_index.items():\n",
    "\n",
    "The tokenizer has a list of words it has encountered, and each word has an index (a unique number).\n",
    "Example:\n",
    "{\n",
    "  \"cat\": 1,   # \"cat\" is assigned index 1\n",
    "  \"dog\": 2,   # \"dog\" is assigned index 2\n",
    "  \"apple\": 3  # \"apple\" is assigned index 3\n",
    "}\n",
    "For each word in this list, the loop will get two things:\n",
    "\n",
    "The word itself (like \"cat\" or \"apple\").\n",
    "The index (its position in the vocabulary list, like 1 for \"cat\").\n",
    "embedding_vector = embeddings_dictionary.get(word)\n",
    "You are looking up the GloVe embedding (the list of 100 numbers) for the current word.\n",
    "\n",
    "embeddings_dictionary.get(word):\n",
    "\n",
    "embeddings_dictionary is a big dictionary that you created earlier, which stores the GloVe embeddings for thousands of words.\n",
    "The get() function is used to check if the word is in this dictionary.\n",
    "If the word is found, it returns the embedding vector for that word (e.g., for \"cat,\" it might return [0.321, -0.123, 0.908, ...]).\n",
    "If the word is not found in the dictionary, it returns None.\n",
    "if embedding_vector is not None:\n",
    "This line checks whether the GloVe embedding for the word was found.\n",
    "\n",
    "If the GloVe embedding is found (i.e., embedding_vector is not None), then the next line runs. If the GloVe embedding is not found, the code simply skips that word.\n",
    "\n",
    "embedding_matrix[index] = embedding_vector\n",
    "This line assigns the GloVe embedding (the list of 100 numbers) to the correct row in the embedding_matrix.\n",
    "\n",
    "What does this mean?\n",
    "\n",
    "The index variable tells us which row in the matrix corresponds to the word (e.g., \"cat\" might be at row 1, \"dog\" at row 2, etc.).\n",
    "The embedding_vector is the list of 100 numbers that represents the word.\n",
    "Example:\n",
    "\n",
    "If the word \"cat\" is at index 1 in the vocabulary, and its embedding vector is [0.321, -0.123, 0.908, ...], then the matrix will now look like this:"
   ]
  },
  {
   "cell_type": "code",
   "execution_count": 131,
   "id": "b12e80b4",
   "metadata": {},
   "outputs": [
    {
     "data": {
      "text/plain": [
       "(82084, 100)"
      ]
     },
     "execution_count": 131,
     "metadata": {},
     "output_type": "execute_result"
    }
   ],
   "source": [
    "embedding_matrix.shape"
   ]
  },
  {
   "cell_type": "code",
   "execution_count": 132,
   "id": "5d70bbaf",
   "metadata": {},
   "outputs": [
    {
     "data": {
      "text/plain": [
       "array([-0.086022  , -0.2014    ,  0.0733    ,  0.12854999, -0.41258001,\n",
       "       -0.17367999, -0.62493002, -0.35870001,  0.25587001, -0.25722   ,\n",
       "       -0.32925999,  0.17169   , -0.042653  , -0.15132   ,  0.12459   ,\n",
       "        0.47240001, -0.61831999, -0.13643   , -0.12512   ,  0.33873001,\n",
       "       -0.035621  , -0.89516002, -0.35194001, -0.15008999, -0.43491   ,\n",
       "        0.57903999, -0.41479   ,  0.29122001,  0.026247  ,  0.11913   ,\n",
       "       -0.097227  , -0.17329   , -0.39910999,  0.11352   ,  0.29001001,\n",
       "        0.50463003,  0.65483999, -1.07529998, -0.29124999, -0.019419  ,\n",
       "       -0.36204001,  0.041031  , -0.41464999, -0.55598998,  0.2457    ,\n",
       "       -0.23624   ,  0.58607   , -0.088436  ,  0.31933001, -0.98869002,\n",
       "        0.15107   ,  0.20586   , -0.74953002, -0.18176   ,  0.16462   ,\n",
       "       -0.71087003,  0.60004997, -1.01479995,  1.23590004, -0.59306002,\n",
       "       -0.27922001,  0.24823999, -0.0335    ,  0.23328   ,  0.81967002,\n",
       "        0.14407   , -0.69406998,  0.47200999,  0.19464   , -0.84592003,\n",
       "        0.067514  , -0.085283  , -0.30067   , -0.64269   ,  0.50502002,\n",
       "        0.52256   , -0.098003  , -0.13183001, -0.43381   , -0.79417998,\n",
       "        0.93067002, -0.026878  , -0.62281001, -0.28224   , -0.94654   ,\n",
       "       -0.35069999,  0.73385   ,  0.57999003,  0.12358   , -1.02820003,\n",
       "        0.39269999, -0.023336  , -0.38598001, -0.35361001,  0.19129001,\n",
       "       -0.29361999,  0.91641998,  0.08761   , -0.41185999,  0.25027999])"
      ]
     },
     "execution_count": 132,
     "metadata": {},
     "output_type": "execute_result"
    }
   ],
   "source": [
    "embedding_matrix[100]"
   ]
  },
  {
   "cell_type": "code",
   "execution_count": 133,
   "id": "d826e526",
   "metadata": {},
   "outputs": [],
   "source": [
    "import pandas as pd\n",
    "import numpy as np"
   ]
  },
  {
   "cell_type": "code",
   "execution_count": 134,
   "id": "04f7d6b9",
   "metadata": {},
   "outputs": [
    {
     "name": "stdout",
     "output_type": "stream",
     "text": [
      "Matrix shape: (82084, 100)\n",
      "First row of the matrix: [0. 0. 0. 0. 0. 0. 0. 0. 0. 0. 0. 0. 0. 0. 0. 0. 0. 0. 0. 0. 0. 0. 0. 0.\n",
      " 0. 0. 0. 0. 0. 0. 0. 0. 0. 0. 0. 0. 0. 0. 0. 0. 0. 0. 0. 0. 0. 0. 0. 0.\n",
      " 0. 0. 0. 0. 0. 0. 0. 0. 0. 0. 0. 0. 0. 0. 0. 0. 0. 0. 0. 0. 0. 0. 0. 0.\n",
      " 0. 0. 0. 0. 0. 0. 0. 0. 0. 0. 0. 0. 0. 0. 0. 0. 0. 0. 0. 0. 0. 0. 0. 0.\n",
      " 0. 0. 0. 0.]\n"
     ]
    }
   ],
   "source": [
    "# Convert the embedding matrix to a DataFrame\n",
    "embedding_df = pd.DataFrame(embedding_matrix)\n",
    "\n",
    "# Export the DataFrame to Excel\n",
    "# embedding_df.to_excel(\"embedding_matrix.xlsx\", index=False, header=False , float_format=\"%.6f\")\n",
    "\n",
    "#Export the DataFrame to CSV\n",
    "embedding_df.to_csv(\"embedding_matrix.csv\", index=True, header=False)\n",
    "\n",
    "print(f\"Matrix shape: {embedding_matrix.shape}\")\n",
    "print(f\"First row of the matrix: {embedding_matrix[0]}\")"
   ]
  },
  {
   "cell_type": "markdown",
   "id": "a8619a80",
   "metadata": {},
   "source": [
    "# MODEL TRAINING\n",
    "\n",
    "### SEQUENTIAL NEURAL NETWORK"
   ]
  },
  {
   "cell_type": "code",
   "execution_count": 135,
   "id": "bcf518ce",
   "metadata": {},
   "outputs": [
    {
     "name": "stderr",
     "output_type": "stream",
     "text": [
      "c:\\Users\\swaya\\OneDrive\\Desktop\\sen_analysis_project\\venv\\Lib\\site-packages\\keras\\src\\layers\\core\\embedding.py:90: UserWarning: Argument `input_length` is deprecated. Just remove it.\n",
      "  warnings.warn(\n"
     ]
    }
   ],
   "source": [
    "snn_model = Sequential([\n",
    "    Embedding(vocab_length, 100, weights=[embedding_matrix], input_length=maxlen, trainable=False),\n",
    "    Flatten(),\n",
    "    Dense(128, activation='relu'),  # Increase to 128 or more units\n",
    "    Dropout(0.5),  # Add dropout to prevent overfitting\n",
    "    Dense(64, activation='relu'),\n",
    "    Dense(3, activation='softmax')  # Keep sigmoid for binary classification\n",
    "])\n",
    "\n",
    "\n",
    "# snn_model=Sequential([\n",
    "#     Embedding(vocab_length, 100, weights=[embedding_matrix], input_length=maxlen , trainable=False),\n",
    "#     Flatten(),\n",
    "#     Dense(64, activation='relu'),\n",
    "#     Dense(1, activation='sigmoid')\n",
    "    \n",
    "# ])\n",
    "\n",
    "\n",
    "# embedding_layer = Embedding(vocab_length, 100, weights=[embedding_matrix], input_length=maxlen , trainable=False)\n",
    "# snn_model.add(embedding_layer)\n",
    "# snn_model.add(Flatten())\n",
    "# snn_model.add(Dense(1,activation='sigmoid'))\n",
    "\n",
    "snn_model.build(input_shape=(None, maxlen))\n"
   ]
  },
  {
   "cell_type": "markdown",
   "id": "cc79bc39",
   "metadata": {},
   "source": [
    "Sequential() is used to define a linear stack of layers in the neural network. It’s a simple way to build a feed-forward network.\n",
    "\n",
    "Embedding layer:\n",
    "vocab_length: Size of the vocabulary.\n",
    "\n",
    "100: Dimension of the GloVe embeddings (each word is represented by a 100-dimensional vector).\n",
    "\n",
    "weights=[embedding_matrix]: The pre-trained GloVe embeddings are used as weights in this layer.\n",
    "\n",
    "input_length=maxlen: Maximum length of the input sequences (tweets in this case).\n",
    "\n",
    "trainable=False: The embeddings are not updated during training.\n",
    "\n",
    "This layer converts the input text data into dense vectors of fixed size based on the GloVe embeddings.\n",
    "\n",
    "Flatten Layer:\n",
    "Flatten() is used to convert the 2D output from the embedding layer into a 1D vector, making it suitable for the next dense layer.\n",
    "Dense Layer:\n",
    "\n",
    "Dense(1, activation='sigmoid'):\n",
    "A dense (fully connected) layer with 1 output unit.\n",
    "The sigmoid activation function is used for binary classification, outputting a probability between 0 and 1.\n",
    "\n",
    "snn_model.build(input_shape=(None, maxlen)) : is very neccessary because Despite compilation, the model is still showing unbuilt layers and no trainable parameters. This usually happens when the model hasn't been provided with input shape information.This issue is solved by this."
   ]
  },
  {
   "cell_type": "code",
   "execution_count": 136,
   "id": "e3e4f420",
   "metadata": {},
   "outputs": [
    {
     "data": {
      "text/html": [
       "<pre style=\"white-space:pre;overflow-x:auto;line-height:normal;font-family:Menlo,'DejaVu Sans Mono',consolas,'Courier New',monospace\"><span style=\"font-weight: bold\">Model: \"sequential_9\"</span>\n",
       "</pre>\n"
      ],
      "text/plain": [
       "\u001b[1mModel: \"sequential_9\"\u001b[0m\n"
      ]
     },
     "metadata": {},
     "output_type": "display_data"
    },
    {
     "data": {
      "text/html": [
       "<pre style=\"white-space:pre;overflow-x:auto;line-height:normal;font-family:Menlo,'DejaVu Sans Mono',consolas,'Courier New',monospace\">┏━━━━━━━━━━━━━━━━━━━━━━━━━━━━━━━━━┳━━━━━━━━━━━━━━━━━━━━━━━━┳━━━━━━━━━━━━━━━┓\n",
       "┃<span style=\"font-weight: bold\"> Layer (type)                    </span>┃<span style=\"font-weight: bold\"> Output Shape           </span>┃<span style=\"font-weight: bold\">       Param # </span>┃\n",
       "┡━━━━━━━━━━━━━━━━━━━━━━━━━━━━━━━━━╇━━━━━━━━━━━━━━━━━━━━━━━━╇━━━━━━━━━━━━━━━┩\n",
       "│ embedding_11 (<span style=\"color: #0087ff; text-decoration-color: #0087ff\">Embedding</span>)        │ (<span style=\"color: #00d7ff; text-decoration-color: #00d7ff\">None</span>, <span style=\"color: #00af00; text-decoration-color: #00af00\">100</span>, <span style=\"color: #00af00; text-decoration-color: #00af00\">100</span>)       │     <span style=\"color: #00af00; text-decoration-color: #00af00\">8,208,400</span> │\n",
       "├─────────────────────────────────┼────────────────────────┼───────────────┤\n",
       "│ flatten_11 (<span style=\"color: #0087ff; text-decoration-color: #0087ff\">Flatten</span>)            │ (<span style=\"color: #00d7ff; text-decoration-color: #00d7ff\">None</span>, <span style=\"color: #00af00; text-decoration-color: #00af00\">10000</span>)          │             <span style=\"color: #00af00; text-decoration-color: #00af00\">0</span> │\n",
       "├─────────────────────────────────┼────────────────────────┼───────────────┤\n",
       "│ dense_22 (<span style=\"color: #0087ff; text-decoration-color: #0087ff\">Dense</span>)                │ (<span style=\"color: #00d7ff; text-decoration-color: #00d7ff\">None</span>, <span style=\"color: #00af00; text-decoration-color: #00af00\">128</span>)            │     <span style=\"color: #00af00; text-decoration-color: #00af00\">1,280,128</span> │\n",
       "├─────────────────────────────────┼────────────────────────┼───────────────┤\n",
       "│ dropout_3 (<span style=\"color: #0087ff; text-decoration-color: #0087ff\">Dropout</span>)             │ (<span style=\"color: #00d7ff; text-decoration-color: #00d7ff\">None</span>, <span style=\"color: #00af00; text-decoration-color: #00af00\">128</span>)            │             <span style=\"color: #00af00; text-decoration-color: #00af00\">0</span> │\n",
       "├─────────────────────────────────┼────────────────────────┼───────────────┤\n",
       "│ dense_23 (<span style=\"color: #0087ff; text-decoration-color: #0087ff\">Dense</span>)                │ (<span style=\"color: #00d7ff; text-decoration-color: #00d7ff\">None</span>, <span style=\"color: #00af00; text-decoration-color: #00af00\">64</span>)             │         <span style=\"color: #00af00; text-decoration-color: #00af00\">8,256</span> │\n",
       "├─────────────────────────────────┼────────────────────────┼───────────────┤\n",
       "│ dense_24 (<span style=\"color: #0087ff; text-decoration-color: #0087ff\">Dense</span>)                │ (<span style=\"color: #00d7ff; text-decoration-color: #00d7ff\">None</span>, <span style=\"color: #00af00; text-decoration-color: #00af00\">3</span>)              │           <span style=\"color: #00af00; text-decoration-color: #00af00\">195</span> │\n",
       "└─────────────────────────────────┴────────────────────────┴───────────────┘\n",
       "</pre>\n"
      ],
      "text/plain": [
       "┏━━━━━━━━━━━━━━━━━━━━━━━━━━━━━━━━━┳━━━━━━━━━━━━━━━━━━━━━━━━┳━━━━━━━━━━━━━━━┓\n",
       "┃\u001b[1m \u001b[0m\u001b[1mLayer (type)                   \u001b[0m\u001b[1m \u001b[0m┃\u001b[1m \u001b[0m\u001b[1mOutput Shape          \u001b[0m\u001b[1m \u001b[0m┃\u001b[1m \u001b[0m\u001b[1m      Param #\u001b[0m\u001b[1m \u001b[0m┃\n",
       "┡━━━━━━━━━━━━━━━━━━━━━━━━━━━━━━━━━╇━━━━━━━━━━━━━━━━━━━━━━━━╇━━━━━━━━━━━━━━━┩\n",
       "│ embedding_11 (\u001b[38;5;33mEmbedding\u001b[0m)        │ (\u001b[38;5;45mNone\u001b[0m, \u001b[38;5;34m100\u001b[0m, \u001b[38;5;34m100\u001b[0m)       │     \u001b[38;5;34m8,208,400\u001b[0m │\n",
       "├─────────────────────────────────┼────────────────────────┼───────────────┤\n",
       "│ flatten_11 (\u001b[38;5;33mFlatten\u001b[0m)            │ (\u001b[38;5;45mNone\u001b[0m, \u001b[38;5;34m10000\u001b[0m)          │             \u001b[38;5;34m0\u001b[0m │\n",
       "├─────────────────────────────────┼────────────────────────┼───────────────┤\n",
       "│ dense_22 (\u001b[38;5;33mDense\u001b[0m)                │ (\u001b[38;5;45mNone\u001b[0m, \u001b[38;5;34m128\u001b[0m)            │     \u001b[38;5;34m1,280,128\u001b[0m │\n",
       "├─────────────────────────────────┼────────────────────────┼───────────────┤\n",
       "│ dropout_3 (\u001b[38;5;33mDropout\u001b[0m)             │ (\u001b[38;5;45mNone\u001b[0m, \u001b[38;5;34m128\u001b[0m)            │             \u001b[38;5;34m0\u001b[0m │\n",
       "├─────────────────────────────────┼────────────────────────┼───────────────┤\n",
       "│ dense_23 (\u001b[38;5;33mDense\u001b[0m)                │ (\u001b[38;5;45mNone\u001b[0m, \u001b[38;5;34m64\u001b[0m)             │         \u001b[38;5;34m8,256\u001b[0m │\n",
       "├─────────────────────────────────┼────────────────────────┼───────────────┤\n",
       "│ dense_24 (\u001b[38;5;33mDense\u001b[0m)                │ (\u001b[38;5;45mNone\u001b[0m, \u001b[38;5;34m3\u001b[0m)              │           \u001b[38;5;34m195\u001b[0m │\n",
       "└─────────────────────────────────┴────────────────────────┴───────────────┘\n"
      ]
     },
     "metadata": {},
     "output_type": "display_data"
    },
    {
     "data": {
      "text/html": [
       "<pre style=\"white-space:pre;overflow-x:auto;line-height:normal;font-family:Menlo,'DejaVu Sans Mono',consolas,'Courier New',monospace\"><span style=\"font-weight: bold\"> Total params: </span><span style=\"color: #00af00; text-decoration-color: #00af00\">9,496,979</span> (36.23 MB)\n",
       "</pre>\n"
      ],
      "text/plain": [
       "\u001b[1m Total params: \u001b[0m\u001b[38;5;34m9,496,979\u001b[0m (36.23 MB)\n"
      ]
     },
     "metadata": {},
     "output_type": "display_data"
    },
    {
     "data": {
      "text/html": [
       "<pre style=\"white-space:pre;overflow-x:auto;line-height:normal;font-family:Menlo,'DejaVu Sans Mono',consolas,'Courier New',monospace\"><span style=\"font-weight: bold\"> Trainable params: </span><span style=\"color: #00af00; text-decoration-color: #00af00\">1,288,579</span> (4.92 MB)\n",
       "</pre>\n"
      ],
      "text/plain": [
       "\u001b[1m Trainable params: \u001b[0m\u001b[38;5;34m1,288,579\u001b[0m (4.92 MB)\n"
      ]
     },
     "metadata": {},
     "output_type": "display_data"
    },
    {
     "data": {
      "text/html": [
       "<pre style=\"white-space:pre;overflow-x:auto;line-height:normal;font-family:Menlo,'DejaVu Sans Mono',consolas,'Courier New',monospace\"><span style=\"font-weight: bold\"> Non-trainable params: </span><span style=\"color: #00af00; text-decoration-color: #00af00\">8,208,400</span> (31.31 MB)\n",
       "</pre>\n"
      ],
      "text/plain": [
       "\u001b[1m Non-trainable params: \u001b[0m\u001b[38;5;34m8,208,400\u001b[0m (31.31 MB)\n"
      ]
     },
     "metadata": {},
     "output_type": "display_data"
    },
    {
     "name": "stdout",
     "output_type": "stream",
     "text": [
      "None\n"
     ]
    }
   ],
   "source": [
    "from tensorflow.keras.optimizers import Adam\n",
    "Optimizer = Adam(learning_rate=0.0005)  # Decrease the learning rate\n",
    "#model compilation\n",
    "snn_model.compile(optimizer=Optimizer,loss='categorical_crossentropy',metrics=['acc'])\n",
    "print(snn_model.summary())"
   ]
  },
  {
   "cell_type": "markdown",
   "id": "6bd710fb",
   "metadata": {},
   "source": [
    "Optimizer:\n",
    "    adam: A popular optimizer that adapts the learning rate during training.\n",
    "Loss Function:\n",
    "    binary_crossentropy: Used for binary classification tasks.\n",
    "Metrics:\n",
    "    acc: Tracks the accuracy during training.\n",
    "\n",
    "Prints a summary of the model, showing the layers and the number of parameters."
   ]
  },
  {
   "cell_type": "code",
   "execution_count": 137,
   "id": "2620f535",
   "metadata": {},
   "outputs": [
    {
     "name": "stdout",
     "output_type": "stream",
     "text": [
      "Epoch 1/6\n",
      "\u001b[1m1097/1097\u001b[0m \u001b[32m━━━━━━━━━━━━━━━━━━━━\u001b[0m\u001b[37m\u001b[0m \u001b[1m30s\u001b[0m 26ms/step - acc: 0.5910 - loss: 0.8838 - val_acc: 0.6666 - val_loss: 0.7423\n",
      "Epoch 2/6\n",
      "\u001b[1m1097/1097\u001b[0m \u001b[32m━━━━━━━━━━━━━━━━━━━━\u001b[0m\u001b[37m\u001b[0m \u001b[1m29s\u001b[0m 27ms/step - acc: 0.6733 - loss: 0.7344 - val_acc: 0.6799 - val_loss: 0.7129\n",
      "Epoch 3/6\n",
      "\u001b[1m1097/1097\u001b[0m \u001b[32m━━━━━━━━━━━━━━━━━━━━\u001b[0m\u001b[37m\u001b[0m \u001b[1m29s\u001b[0m 26ms/step - acc: 0.6975 - loss: 0.6847 - val_acc: 0.6918 - val_loss: 0.6998\n",
      "Epoch 4/6\n",
      "\u001b[1m1097/1097\u001b[0m \u001b[32m━━━━━━━━━━━━━━━━━━━━\u001b[0m\u001b[37m\u001b[0m \u001b[1m30s\u001b[0m 27ms/step - acc: 0.7172 - loss: 0.6486 - val_acc: 0.6919 - val_loss: 0.6946\n",
      "Epoch 5/6\n",
      "\u001b[1m1097/1097\u001b[0m \u001b[32m━━━━━━━━━━━━━━━━━━━━\u001b[0m\u001b[37m\u001b[0m \u001b[1m29s\u001b[0m 26ms/step - acc: 0.7312 - loss: 0.6202 - val_acc: 0.6987 - val_loss: 0.6859\n",
      "Epoch 6/6\n",
      "\u001b[1m1097/1097\u001b[0m \u001b[32m━━━━━━━━━━━━━━━━━━━━\u001b[0m\u001b[37m\u001b[0m \u001b[1m29s\u001b[0m 26ms/step - acc: 0.7453 - loss: 0.5918 - val_acc: 0.7000 - val_loss: 0.6881\n"
     ]
    }
   ],
   "source": [
    "from keras.utils import to_categorical\n",
    "\n",
    "# Convert y_train and y_test to one-hot encoding\n",
    "y_train = to_categorical(y_train, num_classes=3)\n",
    "y_test = to_categorical(y_test, num_classes=3)\n",
    "\n",
    "\n",
    "# model training\n",
    "snn_model_history = snn_model.fit(x_train, y_train, batch_size=128, epochs=6, verbose=1, validation_split=0.2)\n"
   ]
  },
  {
   "cell_type": "code",
   "execution_count": 138,
   "id": "d70bcc9a",
   "metadata": {},
   "outputs": [
    {
     "name": "stdout",
     "output_type": "stream",
     "text": [
      "\u001b[1m1371/1371\u001b[0m \u001b[32m━━━━━━━━━━━━━━━━━━━━\u001b[0m\u001b[37m\u001b[0m \u001b[1m4s\u001b[0m 3ms/step - acc: 0.6967 - loss: 0.6923\n"
     ]
    }
   ],
   "source": [
    "# Predictions on the Test Set\n",
    "score = snn_model.evaluate(x_test, y_test, verbose=1)"
   ]
  },
  {
   "cell_type": "code",
   "execution_count": 142,
   "id": "d454c88b",
   "metadata": {},
   "outputs": [
    {
     "name": "stdout",
     "output_type": "stream",
     "text": [
      "Test Score: 0.6935665607452393\n",
      "Test Accuracy: 0.6956154704093933\n"
     ]
    }
   ],
   "source": [
    "# Model Performance\n",
    "\n",
    "print(\"Test Score:\", score[0])\n",
    "print(\"Test Accuracy:\", score[1])"
   ]
  },
  {
   "cell_type": "markdown",
   "id": "709b8f83",
   "metadata": {},
   "source": [
    "X_test and y_test: Test data and labels.\n",
    "\n",
    "score: Contains the loss and accuracy of the model on the test set."
   ]
  },
  {
   "cell_type": "code",
   "execution_count": 143,
   "id": "28c31404",
   "metadata": {},
   "outputs": [
    {
     "data": {
      "image/png": "[encoded data removed]",
      "text/plain": [
       "<Figure size 640x480 with 1 Axes>"
      ]
     },
     "metadata": {},
     "output_type": "display_data"
    },
    {
     "data": {
      "image/png": "[encoded data removed]",
      "text/plain": [
       "<Figure size 640x480 with 1 Axes>"
      ]
     },
     "metadata": {},
     "output_type": "display_data"
    }
   ],
   "source": [
    "# Performance Visualization\n",
    "\n",
    "import matplotlib.pyplot as plt\n",
    "\n",
    "plt.plot(snn_model_history.history['acc'])\n",
    "plt.plot(snn_model_history.history['val_acc'])\n",
    "plt.title('model accuracy')\n",
    "plt.ylabel('accuracy')\n",
    "plt.xlabel('epoch')\n",
    "plt.legend(['train', 'test'], loc='upper left')\n",
    "plt.show()\n",
    "\n",
    "plt.plot(snn_model_history.history['loss'])\n",
    "plt.plot(snn_model_history.history['val_loss'])\n",
    "plt.title('model loss')\n",
    "plt.ylabel('loss')\n",
    "plt.xlabel('epoch')\n",
    "plt.legend(['train', 'test'], loc='upper left')\n",
    "plt.show()"
   ]
  },
  {
   "cell_type": "code",
   "execution_count": 146,
   "id": "ad2dcde2",
   "metadata": {},
   "outputs": [
    {
     "name": "stdout",
     "output_type": "stream",
     "text": [
      " Volume in drive C is Windows\n",
      " Volume Serial Number is 642F-B5AF\n",
      "\n",
      " Directory of c:\\Users\\swaya\\OneDrive\\Desktop\\sen_analysis_project\n",
      "\n",
      "\n",
      " Directory of c:\\Users\\swaya\\OneDrive\\Desktop\\sen_analysis_project\n",
      "\n",
      "\n",
      " Directory of c:\\Users\\swaya\\OneDrive\\Desktop\\sen_analysis_project\n",
      "\n",
      "\n",
      " Directory of c:\\Users\\swaya\\OneDrive\\Desktop\\sen_analysis_project\n",
      "\n",
      "\n",
      " Directory of c:\\Users\\swaya\\OneDrive\\Desktop\\sen_analysis_project\n",
      "\n"
     ]
    },
    {
     "name": "stderr",
     "output_type": "stream",
     "text": [
      "File Not Found\n"
     ]
    }
   ],
   "source": [
    "ls #lists files in working directory"
   ]
  },
  {
   "cell_type": "code",
   "execution_count": 147,
   "id": "d548b74d",
   "metadata": {},
   "outputs": [
    {
     "name": "stdout",
     "output_type": "stream",
     "text": [
      "\u001b[1m1371/1371\u001b[0m \u001b[32m━━━━━━━━━━━━━━━━━━━━\u001b[0m\u001b[37m\u001b[0m \u001b[1m4s\u001b[0m 3ms/step\n"
     ]
    },
    {
     "data": {
      "image/png": "[encoded data removed]",
      "text/plain": [
       "<Figure size 640x480 with 2 Axes>"
      ]
     },
     "metadata": {},
     "output_type": "display_data"
    },
    {
     "name": "stdout",
     "output_type": "stream",
     "text": [
      "              precision    recall  f1-score   support\n",
      "\n",
      "           0       0.77      0.85      0.80     21474\n",
      "           1       0.66      0.71      0.68     11204\n",
      "           2       0.55      0.40      0.46     11181\n",
      "\n",
      "    accuracy                           0.70     43859\n",
      "   macro avg       0.66      0.65      0.65     43859\n",
      "weighted avg       0.68      0.70      0.68     43859\n",
      "\n"
     ]
    }
   ],
   "source": [
    "from sklearn.metrics import confusion_matrix, classification_report\n",
    "import seaborn as sns\n",
    "import matplotlib.pyplot as plt\n",
    "\n",
    "y_pred = np.argmax(snn_model.predict(x_test), axis=-1)\n",
    "y_true = np.argmax(y_test, axis=-1)\n",
    "\n",
    "conf_matrix = confusion_matrix(y_true, y_pred)\n",
    "sns.heatmap(conf_matrix, annot=True, fmt='d', cmap='Blues')\n",
    "plt.xlabel('Predicted')\n",
    "plt.ylabel('True')\n",
    "plt.show()\n",
    "\n",
    "print(classification_report(y_true, y_pred))\n"
   ]
  },
  {
   "cell_type": "markdown",
   "id": "09decf6e",
   "metadata": {},
   "source": [
    "Confusion Matrix: Analyze the confusion matrix to understand where the model is making errors. This can help you identify if there is a class imbalance issue or if certain classes are harder for the model to predict."
   ]
  },
  {
   "cell_type": "code",
   "execution_count": 148,
   "id": "b34be3f4",
   "metadata": {},
   "outputs": [
    {
     "name": "stdout",
     "output_type": "stream",
     "text": [
      "Epoch 1/20\n",
      "\u001b[1m1097/1097\u001b[0m \u001b[32m━━━━━━━━━━━━━━━━━━━━\u001b[0m\u001b[37m\u001b[0m \u001b[1m30s\u001b[0m 27ms/step - acc: 0.7580 - loss: 0.5686 - val_acc: 0.7002 - val_loss: 0.6912\n",
      "Epoch 2/20\n",
      "\u001b[1m1097/1097\u001b[0m \u001b[32m━━━━━━━━━━━━━━━━━━━━\u001b[0m\u001b[37m\u001b[0m \u001b[1m30s\u001b[0m 27ms/step - acc: 0.7647 - loss: 0.5483 - val_acc: 0.6982 - val_loss: 0.6946\n",
      "Epoch 3/20\n",
      "\u001b[1m1097/1097\u001b[0m \u001b[32m━━━━━━━━━━━━━━━━━━━━\u001b[0m\u001b[37m\u001b[0m \u001b[1m30s\u001b[0m 27ms/step - acc: 0.7727 - loss: 0.5330 - val_acc: 0.7003 - val_loss: 0.6954\n",
      "Epoch 4/20\n",
      "\u001b[1m1097/1097\u001b[0m \u001b[32m━━━━━━━━━━━━━━━━━━━━\u001b[0m\u001b[37m\u001b[0m \u001b[1m33s\u001b[0m 30ms/step - acc: 0.7821 - loss: 0.5136 - val_acc: 0.6999 - val_loss: 0.7044\n"
     ]
    }
   ],
   "source": [
    "from keras.callbacks import EarlyStopping\n",
    "\n",
    "early_stopping = EarlyStopping(monitor='val_loss', patience=3)\n",
    "snn_model_history = snn_model.fit(x_train, y_train, batch_size=128, epochs=20, verbose=1, validation_split=0.2, callbacks=[early_stopping])\n"
   ]
  },
  {
   "cell_type": "markdown",
   "id": "9c5b0bf0",
   "metadata": {},
   "source": [
    "Hyperparameter Tuning: Experiment with different hyperparameters such as the number of layers, units in each layer, dropout rates, and learning rates. You might use techniques like Grid Search or Random Search for hyperparameter tuning.\n",
    "\n",
    "Early Stopping: Implement early stopping to avoid overfitting. This stops training when the validation loss stops improving."
   ]
  },
  {
   "cell_type": "markdown",
   "id": "ffc6116d",
   "metadata": {},
   "source": [
    "### CONVOLUTIONAL NEURAL NETWORK MODEL"
   ]
  },
  {
   "cell_type": "code",
   "execution_count": 150,
   "id": "ab8e35c1",
   "metadata": {},
   "outputs": [],
   "source": [
    "from keras.layers import Conv1D "
   ]
  },
  {
   "cell_type": "markdown",
   "id": "e2ef2193",
   "metadata": {},
   "source": [
    "\n",
    "Conv1D: Applies convolution along a single dimension (e.g., sequence).\n",
    "\n",
    "Conv2D: Applies convolution across two dimensions (e.g., images).\n",
    "\n",
    "Conv3D: Applies convolution across three dimensions (e.g., video frames)."
   ]
  },
  {
   "cell_type": "code",
   "execution_count": 153,
   "id": "e92ef229",
   "metadata": {},
   "outputs": [
    {
     "name": "stderr",
     "output_type": "stream",
     "text": [
      "c:\\Users\\swaya\\OneDrive\\Desktop\\sen_analysis_project\\venv\\Lib\\site-packages\\keras\\src\\layers\\core\\embedding.py:90: UserWarning: Argument `input_length` is deprecated. Just remove it.\n",
      "  warnings.warn(\n"
     ]
    }
   ],
   "source": [
    "# Neural Network architecture\n",
    "\n",
    "cnn_model = Sequential([\n",
    "    Embedding(vocab_length, 100, weights=[embedding_matrix], input_length=maxlen, trainable=False),\n",
    "    Conv1D(128, 5, activation='relu'),\n",
    "    GlobalMaxPooling1D(),\n",
    "    Dense(128, activation='relu'),\n",
    "    Dropout(0.5),\n",
    "    Dense(64, activation='relu'),\n",
    "    Dense(3, activation='softmax')  # For multi-class classification\n",
    "])\n",
    "\n",
    "# embedding_layer = Embedding(vocab_length, 100, weights=[embedding_matrix], input_length=maxlen , trainable=False)\n",
    "# cnn_model.add(embedding_layer)\n",
    "\n",
    "# cnn_model.add(Conv1D(128, 5, activation='relu'))\n",
    "# cnn_model.add(GlobalMaxPooling1D())\n",
    "# cnn_model.add(Dense(1, activation='sigmoid'))\n",
    "\n",
    "cnn_model.build(input_shape=(None, maxlen))"
   ]
  },
  {
   "cell_type": "markdown",
   "id": "fb4a2a5a",
   "metadata": {},
   "source": [
    "Conv1D Layer: Applies 1D convolution to the sequence of word vectors. It uses 128 filters with a kernel size of 5 and ReLU activation to extract features from the text sequences.\n",
    "\n",
    "GlobalMaxPooling1D Layer: Reduces the dimensionality by taking the maximum value over the sequence length for each feature map. This operation provides a fixed-size output regardless of the input sequence length.\n",
    "\n",
    "The first Dense layer with 128 units and ReLU activation processes the features extracted by the convolutional and pooling layers.\n",
    "\n",
    "The Dropout layer with a rate of 0.5 helps to prevent overfitting by randomly setting 50% of the inputs to zero during training.\n",
    "\n",
    "The second Dense layer with 64 units and ReLU activation further processes the features.\n",
    "\n",
    "The final Dense layer with 3 units and softmax activation produces probabilities for each of the 3 classes."
   ]
  },
  {
   "cell_type": "code",
   "execution_count": 155,
   "id": "9ac9df47",
   "metadata": {},
   "outputs": [
    {
     "data": {
      "text/html": [
       "<pre style=\"white-space:pre;overflow-x:auto;line-height:normal;font-family:Menlo,'DejaVu Sans Mono',consolas,'Courier New',monospace\"><span style=\"font-weight: bold\">Model: \"sequential_11\"</span>\n",
       "</pre>\n"
      ],
      "text/plain": [
       "\u001b[1mModel: \"sequential_11\"\u001b[0m\n"
      ]
     },
     "metadata": {},
     "output_type": "display_data"
    },
    {
     "data": {
      "text/html": [
       "<pre style=\"white-space:pre;overflow-x:auto;line-height:normal;font-family:Menlo,'DejaVu Sans Mono',consolas,'Courier New',monospace\">┏━━━━━━━━━━━━━━━━━━━━━━━━━━━━━━━━━┳━━━━━━━━━━━━━━━━━━━━━━━━┳━━━━━━━━━━━━━━━┓\n",
       "┃<span style=\"font-weight: bold\"> Layer (type)                    </span>┃<span style=\"font-weight: bold\"> Output Shape           </span>┃<span style=\"font-weight: bold\">       Param # </span>┃\n",
       "┡━━━━━━━━━━━━━━━━━━━━━━━━━━━━━━━━━╇━━━━━━━━━━━━━━━━━━━━━━━━╇━━━━━━━━━━━━━━━┩\n",
       "│ embedding_13 (<span style=\"color: #0087ff; text-decoration-color: #0087ff\">Embedding</span>)        │ (<span style=\"color: #00d7ff; text-decoration-color: #00d7ff\">None</span>, <span style=\"color: #00af00; text-decoration-color: #00af00\">100</span>, <span style=\"color: #00af00; text-decoration-color: #00af00\">100</span>)       │     <span style=\"color: #00af00; text-decoration-color: #00af00\">8,208,400</span> │\n",
       "├─────────────────────────────────┼────────────────────────┼───────────────┤\n",
       "│ conv1d_1 (<span style=\"color: #0087ff; text-decoration-color: #0087ff\">Conv1D</span>)               │ (<span style=\"color: #00d7ff; text-decoration-color: #00d7ff\">None</span>, <span style=\"color: #00af00; text-decoration-color: #00af00\">96</span>, <span style=\"color: #00af00; text-decoration-color: #00af00\">128</span>)        │        <span style=\"color: #00af00; text-decoration-color: #00af00\">64,128</span> │\n",
       "├─────────────────────────────────┼────────────────────────┼───────────────┤\n",
       "│ global_max_pooling1d_1          │ (<span style=\"color: #00d7ff; text-decoration-color: #00d7ff\">None</span>, <span style=\"color: #00af00; text-decoration-color: #00af00\">128</span>)            │             <span style=\"color: #00af00; text-decoration-color: #00af00\">0</span> │\n",
       "│ (<span style=\"color: #0087ff; text-decoration-color: #0087ff\">GlobalMaxPooling1D</span>)            │                        │               │\n",
       "├─────────────────────────────────┼────────────────────────┼───────────────┤\n",
       "│ dense_28 (<span style=\"color: #0087ff; text-decoration-color: #0087ff\">Dense</span>)                │ (<span style=\"color: #00d7ff; text-decoration-color: #00d7ff\">None</span>, <span style=\"color: #00af00; text-decoration-color: #00af00\">128</span>)            │        <span style=\"color: #00af00; text-decoration-color: #00af00\">16,512</span> │\n",
       "├─────────────────────────────────┼────────────────────────┼───────────────┤\n",
       "│ dropout_5 (<span style=\"color: #0087ff; text-decoration-color: #0087ff\">Dropout</span>)             │ (<span style=\"color: #00d7ff; text-decoration-color: #00d7ff\">None</span>, <span style=\"color: #00af00; text-decoration-color: #00af00\">128</span>)            │             <span style=\"color: #00af00; text-decoration-color: #00af00\">0</span> │\n",
       "├─────────────────────────────────┼────────────────────────┼───────────────┤\n",
       "│ dense_29 (<span style=\"color: #0087ff; text-decoration-color: #0087ff\">Dense</span>)                │ (<span style=\"color: #00d7ff; text-decoration-color: #00d7ff\">None</span>, <span style=\"color: #00af00; text-decoration-color: #00af00\">64</span>)             │         <span style=\"color: #00af00; text-decoration-color: #00af00\">8,256</span> │\n",
       "├─────────────────────────────────┼────────────────────────┼───────────────┤\n",
       "│ dense_30 (<span style=\"color: #0087ff; text-decoration-color: #0087ff\">Dense</span>)                │ (<span style=\"color: #00d7ff; text-decoration-color: #00d7ff\">None</span>, <span style=\"color: #00af00; text-decoration-color: #00af00\">3</span>)              │           <span style=\"color: #00af00; text-decoration-color: #00af00\">195</span> │\n",
       "└─────────────────────────────────┴────────────────────────┴───────────────┘\n",
       "</pre>\n"
      ],
      "text/plain": [
       "┏━━━━━━━━━━━━━━━━━━━━━━━━━━━━━━━━━┳━━━━━━━━━━━━━━━━━━━━━━━━┳━━━━━━━━━━━━━━━┓\n",
       "┃\u001b[1m \u001b[0m\u001b[1mLayer (type)                   \u001b[0m\u001b[1m \u001b[0m┃\u001b[1m \u001b[0m\u001b[1mOutput Shape          \u001b[0m\u001b[1m \u001b[0m┃\u001b[1m \u001b[0m\u001b[1m      Param #\u001b[0m\u001b[1m \u001b[0m┃\n",
       "┡━━━━━━━━━━━━━━━━━━━━━━━━━━━━━━━━━╇━━━━━━━━━━━━━━━━━━━━━━━━╇━━━━━━━━━━━━━━━┩\n",
       "│ embedding_13 (\u001b[38;5;33mEmbedding\u001b[0m)        │ (\u001b[38;5;45mNone\u001b[0m, \u001b[38;5;34m100\u001b[0m, \u001b[38;5;34m100\u001b[0m)       │     \u001b[38;5;34m8,208,400\u001b[0m │\n",
       "├─────────────────────────────────┼────────────────────────┼───────────────┤\n",
       "│ conv1d_1 (\u001b[38;5;33mConv1D\u001b[0m)               │ (\u001b[38;5;45mNone\u001b[0m, \u001b[38;5;34m96\u001b[0m, \u001b[38;5;34m128\u001b[0m)        │        \u001b[38;5;34m64,128\u001b[0m │\n",
       "├─────────────────────────────────┼────────────────────────┼───────────────┤\n",
       "│ global_max_pooling1d_1          │ (\u001b[38;5;45mNone\u001b[0m, \u001b[38;5;34m128\u001b[0m)            │             \u001b[38;5;34m0\u001b[0m │\n",
       "│ (\u001b[38;5;33mGlobalMaxPooling1D\u001b[0m)            │                        │               │\n",
       "├─────────────────────────────────┼────────────────────────┼───────────────┤\n",
       "│ dense_28 (\u001b[38;5;33mDense\u001b[0m)                │ (\u001b[38;5;45mNone\u001b[0m, \u001b[38;5;34m128\u001b[0m)            │        \u001b[38;5;34m16,512\u001b[0m │\n",
       "├─────────────────────────────────┼────────────────────────┼───────────────┤\n",
       "│ dropout_5 (\u001b[38;5;33mDropout\u001b[0m)             │ (\u001b[38;5;45mNone\u001b[0m, \u001b[38;5;34m128\u001b[0m)            │             \u001b[38;5;34m0\u001b[0m │\n",
       "├─────────────────────────────────┼────────────────────────┼───────────────┤\n",
       "│ dense_29 (\u001b[38;5;33mDense\u001b[0m)                │ (\u001b[38;5;45mNone\u001b[0m, \u001b[38;5;34m64\u001b[0m)             │         \u001b[38;5;34m8,256\u001b[0m │\n",
       "├─────────────────────────────────┼────────────────────────┼───────────────┤\n",
       "│ dense_30 (\u001b[38;5;33mDense\u001b[0m)                │ (\u001b[38;5;45mNone\u001b[0m, \u001b[38;5;34m3\u001b[0m)              │           \u001b[38;5;34m195\u001b[0m │\n",
       "└─────────────────────────────────┴────────────────────────┴───────────────┘\n"
      ]
     },
     "metadata": {},
     "output_type": "display_data"
    },
    {
     "data": {
      "text/html": [
       "<pre style=\"white-space:pre;overflow-x:auto;line-height:normal;font-family:Menlo,'DejaVu Sans Mono',consolas,'Courier New',monospace\"><span style=\"font-weight: bold\"> Total params: </span><span style=\"color: #00af00; text-decoration-color: #00af00\">8,297,491</span> (31.65 MB)\n",
       "</pre>\n"
      ],
      "text/plain": [
       "\u001b[1m Total params: \u001b[0m\u001b[38;5;34m8,297,491\u001b[0m (31.65 MB)\n"
      ]
     },
     "metadata": {},
     "output_type": "display_data"
    },
    {
     "data": {
      "text/html": [
       "<pre style=\"white-space:pre;overflow-x:auto;line-height:normal;font-family:Menlo,'DejaVu Sans Mono',consolas,'Courier New',monospace\"><span style=\"font-weight: bold\"> Trainable params: </span><span style=\"color: #00af00; text-decoration-color: #00af00\">89,091</span> (348.01 KB)\n",
       "</pre>\n"
      ],
      "text/plain": [
       "\u001b[1m Trainable params: \u001b[0m\u001b[38;5;34m89,091\u001b[0m (348.01 KB)\n"
      ]
     },
     "metadata": {},
     "output_type": "display_data"
    },
    {
     "data": {
      "text/html": [
       "<pre style=\"white-space:pre;overflow-x:auto;line-height:normal;font-family:Menlo,'DejaVu Sans Mono',consolas,'Courier New',monospace\"><span style=\"font-weight: bold\"> Non-trainable params: </span><span style=\"color: #00af00; text-decoration-color: #00af00\">8,208,400</span> (31.31 MB)\n",
       "</pre>\n"
      ],
      "text/plain": [
       "\u001b[1m Non-trainable params: \u001b[0m\u001b[38;5;34m8,208,400\u001b[0m (31.31 MB)\n"
      ]
     },
     "metadata": {},
     "output_type": "display_data"
    },
    {
     "name": "stdout",
     "output_type": "stream",
     "text": [
      "None\n"
     ]
    }
   ],
   "source": [
    "from tensorflow.keras.optimizers import Adam\n",
    "Optimizer = Adam(learning_rate=0.0005)  # Decrease the learning rate\n",
    "# Model compilation\n",
    "cnn_model.compile(optimizer=Optimizer,loss='categorical_crossentropy',metrics=['acc'])\n",
    "print(cnn_model.summary())\n"
   ]
  },
  {
   "cell_type": "code",
   "execution_count": null,
   "id": "ebb0ee28",
   "metadata": {},
   "outputs": [
    {
     "name": "stdout",
     "output_type": "stream",
     "text": [
      "Epoch 1/6\n",
      "\u001b[1m1097/1097\u001b[0m \u001b[32m━━━━━━━━━━━━━━━━━━━━\u001b[0m\u001b[37m\u001b[0m \u001b[1m36s\u001b[0m 31ms/step - acc: 0.5788 - loss: 0.8917 - val_acc: 0.7311 - val_loss: 0.6283\n",
      "Epoch 2/6\n",
      "\u001b[1m1097/1097\u001b[0m \u001b[32m━━━━━━━━━━━━━━━━━━━━\u001b[0m\u001b[37m\u001b[0m \u001b[1m35s\u001b[0m 32ms/step - acc: 0.7396 - loss: 0.6121 - val_acc: 0.7636 - val_loss: 0.5614\n",
      "Epoch 3/6\n",
      "\u001b[1m1097/1097\u001b[0m \u001b[32m━━━━━━━━━━━━━━━━━━━━\u001b[0m\u001b[37m\u001b[0m \u001b[1m35s\u001b[0m 32ms/step - acc: 0.7805 - loss: 0.5303 - val_acc: 0.7735 - val_loss: 0.5378\n",
      "Epoch 4/6\n",
      "\u001b[1m1097/1097\u001b[0m \u001b[32m━━━━━━━━━━━━━━━━━━━━\u001b[0m\u001b[37m\u001b[0m \u001b[1m35s\u001b[0m 32ms/step - acc: 0.8015 - loss: 0.4844 - val_acc: 0.7825 - val_loss: 0.5204\n",
      "Epoch 5/6\n",
      "\u001b[1m1097/1097\u001b[0m \u001b[32m━━━━━━━━━━━━━━━━━━━━\u001b[0m\u001b[37m\u001b[0m \u001b[1m48s\u001b[0m 43ms/step - acc: 0.8213 - loss: 0.4449 - val_acc: 0.7758 - val_loss: 0.5402\n",
      "Epoch 6/6\n",
      "\u001b[1m1097/1097\u001b[0m \u001b[32m━━━━━━━━━━━━━━━━━━━━\u001b[0m\u001b[37m\u001b[0m \u001b[1m47s\u001b[0m 43ms/step - acc: 0.8360 - loss: 0.4120 - val_acc: 0.7813 - val_loss: 0.5322\n"
     ]
    }
   ],
   "source": [
    "# from keras.utils import to_categorical\n",
    "\n",
    "# # Convert y_train and y_test to one-hot encoding\n",
    "# y_train = to_categorical(y_train, num_classes=3)\n",
    "# y_test = to_categorical(y_test, num_classes=3)\n",
    "\n",
    "# Model training\n",
    "\n",
    "cnn_model_history = cnn_model.fit(x_train, y_train, batch_size=128, epochs=6, verbose=1, validation_split=0.2)"
   ]
  },
  {
   "cell_type": "code",
   "execution_count": 159,
   "id": "69047135",
   "metadata": {},
   "outputs": [
    {
     "name": "stdout",
     "output_type": "stream",
     "text": [
      "\u001b[1m1371/1371\u001b[0m \u001b[32m━━━━━━━━━━━━━━━━━━━━\u001b[0m\u001b[37m\u001b[0m \u001b[1m8s\u001b[0m 6ms/step - acc: 0.7789 - loss: 0.5399\n"
     ]
    }
   ],
   "source": [
    "# Predictions on the Test Set\n",
    "\n",
    "score = cnn_model.evaluate(x_test, y_test, verbose=1)"
   ]
  },
  {
   "cell_type": "code",
   "execution_count": 160,
   "id": "f2409688",
   "metadata": {},
   "outputs": [
    {
     "name": "stdout",
     "output_type": "stream",
     "text": [
      "Test Score: 0.5379065871238708\n",
      "Test Accuracy: 0.7789963483810425\n"
     ]
    }
   ],
   "source": [
    "# Model Performance\n",
    "\n",
    "print(\"Test Score:\", score[0])\n",
    "print(\"Test Accuracy:\", score[1])"
   ]
  },
  {
   "cell_type": "code",
   "execution_count": 161,
   "id": "9817d64b",
   "metadata": {},
   "outputs": [
    {
     "data": {
      "image/png": "[encoded data removed]",
      "text/plain": [
       "<Figure size 640x480 with 1 Axes>"
      ]
     },
     "metadata": {},
     "output_type": "display_data"
    },
    {
     "data": {
      "image/png": "[encoded data removed]",
      "text/plain": [
       "<Figure size 640x480 with 1 Axes>"
      ]
     },
     "metadata": {},
     "output_type": "display_data"
    }
   ],
   "source": [
    "# Model Performance Charts\n",
    "\n",
    "import matplotlib.pyplot as plt\n",
    "\n",
    "plt.plot(cnn_model_history.history['acc'])\n",
    "plt.plot(cnn_model_history.history['val_acc'])\n",
    "\n",
    "plt.title('model accuracy')\n",
    "plt.ylabel('accuracy')\n",
    "plt.xlabel('epoch')\n",
    "plt.legend(['train','test'], loc = 'upper left')\n",
    "plt.show()\n",
    "\n",
    "plt.plot(cnn_model_history.history['loss'])\n",
    "plt.plot(cnn_model_history.history['val_loss'])\n",
    "\n",
    "plt.title('model loss')\n",
    "plt.ylabel('loss')\n",
    "plt.xlabel('epoch')\n",
    "plt.legend(['train','test'], loc = 'upper left')\n",
    "plt.show()"
   ]
  },
  {
   "cell_type": "markdown",
   "id": "4b8a2d09",
   "metadata": {},
   "source": [
    "### RECURRENT NEURAL NETWORK (LSTM)"
   ]
  },
  {
   "cell_type": "code",
   "execution_count": 162,
   "id": "99bad86e",
   "metadata": {},
   "outputs": [],
   "source": [
    "from keras.layers import LSTM "
   ]
  },
  {
   "cell_type": "code",
   "execution_count": 165,
   "id": "a76d743f",
   "metadata": {},
   "outputs": [
    {
     "data": {
      "text/html": [
       "<pre style=\"white-space:pre;overflow-x:auto;line-height:normal;font-family:Menlo,'DejaVu Sans Mono',consolas,'Courier New',monospace\"><span style=\"font-weight: bold\">Model: \"sequential_14\"</span>\n",
       "</pre>\n"
      ],
      "text/plain": [
       "\u001b[1mModel: \"sequential_14\"\u001b[0m\n"
      ]
     },
     "metadata": {},
     "output_type": "display_data"
    },
    {
     "data": {
      "text/html": [
       "<pre style=\"white-space:pre;overflow-x:auto;line-height:normal;font-family:Menlo,'DejaVu Sans Mono',consolas,'Courier New',monospace\">┏━━━━━━━━━━━━━━━━━━━━━━━━━━━━━━━━━┳━━━━━━━━━━━━━━━━━━━━━━━━┳━━━━━━━━━━━━━━━┓\n",
       "┃<span style=\"font-weight: bold\"> Layer (type)                    </span>┃<span style=\"font-weight: bold\"> Output Shape           </span>┃<span style=\"font-weight: bold\">       Param # </span>┃\n",
       "┡━━━━━━━━━━━━━━━━━━━━━━━━━━━━━━━━━╇━━━━━━━━━━━━━━━━━━━━━━━━╇━━━━━━━━━━━━━━━┩\n",
       "│ embedding_16 (<span style=\"color: #0087ff; text-decoration-color: #0087ff\">Embedding</span>)        │ (<span style=\"color: #00d7ff; text-decoration-color: #00d7ff\">None</span>, <span style=\"color: #00af00; text-decoration-color: #00af00\">100</span>, <span style=\"color: #00af00; text-decoration-color: #00af00\">100</span>)       │     <span style=\"color: #00af00; text-decoration-color: #00af00\">8,208,400</span> │\n",
       "├─────────────────────────────────┼────────────────────────┼───────────────┤\n",
       "│ lstm_2 (<span style=\"color: #0087ff; text-decoration-color: #0087ff\">LSTM</span>)                   │ (<span style=\"color: #00d7ff; text-decoration-color: #00d7ff\">None</span>, <span style=\"color: #00af00; text-decoration-color: #00af00\">128</span>)            │       <span style=\"color: #00af00; text-decoration-color: #00af00\">117,248</span> │\n",
       "├─────────────────────────────────┼────────────────────────┼───────────────┤\n",
       "│ dense_37 (<span style=\"color: #0087ff; text-decoration-color: #0087ff\">Dense</span>)                │ (<span style=\"color: #00d7ff; text-decoration-color: #00d7ff\">None</span>, <span style=\"color: #00af00; text-decoration-color: #00af00\">128</span>)            │        <span style=\"color: #00af00; text-decoration-color: #00af00\">16,512</span> │\n",
       "├─────────────────────────────────┼────────────────────────┼───────────────┤\n",
       "│ dropout_8 (<span style=\"color: #0087ff; text-decoration-color: #0087ff\">Dropout</span>)             │ (<span style=\"color: #00d7ff; text-decoration-color: #00d7ff\">None</span>, <span style=\"color: #00af00; text-decoration-color: #00af00\">128</span>)            │             <span style=\"color: #00af00; text-decoration-color: #00af00\">0</span> │\n",
       "├─────────────────────────────────┼────────────────────────┼───────────────┤\n",
       "│ dense_38 (<span style=\"color: #0087ff; text-decoration-color: #0087ff\">Dense</span>)                │ (<span style=\"color: #00d7ff; text-decoration-color: #00d7ff\">None</span>, <span style=\"color: #00af00; text-decoration-color: #00af00\">64</span>)             │         <span style=\"color: #00af00; text-decoration-color: #00af00\">8,256</span> │\n",
       "├─────────────────────────────────┼────────────────────────┼───────────────┤\n",
       "│ dense_39 (<span style=\"color: #0087ff; text-decoration-color: #0087ff\">Dense</span>)                │ (<span style=\"color: #00d7ff; text-decoration-color: #00d7ff\">None</span>, <span style=\"color: #00af00; text-decoration-color: #00af00\">3</span>)              │           <span style=\"color: #00af00; text-decoration-color: #00af00\">195</span> │\n",
       "└─────────────────────────────────┴────────────────────────┴───────────────┘\n",
       "</pre>\n"
      ],
      "text/plain": [
       "┏━━━━━━━━━━━━━━━━━━━━━━━━━━━━━━━━━┳━━━━━━━━━━━━━━━━━━━━━━━━┳━━━━━━━━━━━━━━━┓\n",
       "┃\u001b[1m \u001b[0m\u001b[1mLayer (type)                   \u001b[0m\u001b[1m \u001b[0m┃\u001b[1m \u001b[0m\u001b[1mOutput Shape          \u001b[0m\u001b[1m \u001b[0m┃\u001b[1m \u001b[0m\u001b[1m      Param #\u001b[0m\u001b[1m \u001b[0m┃\n",
       "┡━━━━━━━━━━━━━━━━━━━━━━━━━━━━━━━━━╇━━━━━━━━━━━━━━━━━━━━━━━━╇━━━━━━━━━━━━━━━┩\n",
       "│ embedding_16 (\u001b[38;5;33mEmbedding\u001b[0m)        │ (\u001b[38;5;45mNone\u001b[0m, \u001b[38;5;34m100\u001b[0m, \u001b[38;5;34m100\u001b[0m)       │     \u001b[38;5;34m8,208,400\u001b[0m │\n",
       "├─────────────────────────────────┼────────────────────────┼───────────────┤\n",
       "│ lstm_2 (\u001b[38;5;33mLSTM\u001b[0m)                   │ (\u001b[38;5;45mNone\u001b[0m, \u001b[38;5;34m128\u001b[0m)            │       \u001b[38;5;34m117,248\u001b[0m │\n",
       "├─────────────────────────────────┼────────────────────────┼───────────────┤\n",
       "│ dense_37 (\u001b[38;5;33mDense\u001b[0m)                │ (\u001b[38;5;45mNone\u001b[0m, \u001b[38;5;34m128\u001b[0m)            │        \u001b[38;5;34m16,512\u001b[0m │\n",
       "├─────────────────────────────────┼────────────────────────┼───────────────┤\n",
       "│ dropout_8 (\u001b[38;5;33mDropout\u001b[0m)             │ (\u001b[38;5;45mNone\u001b[0m, \u001b[38;5;34m128\u001b[0m)            │             \u001b[38;5;34m0\u001b[0m │\n",
       "├─────────────────────────────────┼────────────────────────┼───────────────┤\n",
       "│ dense_38 (\u001b[38;5;33mDense\u001b[0m)                │ (\u001b[38;5;45mNone\u001b[0m, \u001b[38;5;34m64\u001b[0m)             │         \u001b[38;5;34m8,256\u001b[0m │\n",
       "├─────────────────────────────────┼────────────────────────┼───────────────┤\n",
       "│ dense_39 (\u001b[38;5;33mDense\u001b[0m)                │ (\u001b[38;5;45mNone\u001b[0m, \u001b[38;5;34m3\u001b[0m)              │           \u001b[38;5;34m195\u001b[0m │\n",
       "└─────────────────────────────────┴────────────────────────┴───────────────┘\n"
      ]
     },
     "metadata": {},
     "output_type": "display_data"
    },
    {
     "data": {
      "text/html": [
       "<pre style=\"white-space:pre;overflow-x:auto;line-height:normal;font-family:Menlo,'DejaVu Sans Mono',consolas,'Courier New',monospace\"><span style=\"font-weight: bold\"> Total params: </span><span style=\"color: #00af00; text-decoration-color: #00af00\">8,350,611</span> (31.86 MB)\n",
       "</pre>\n"
      ],
      "text/plain": [
       "\u001b[1m Total params: \u001b[0m\u001b[38;5;34m8,350,611\u001b[0m (31.86 MB)\n"
      ]
     },
     "metadata": {},
     "output_type": "display_data"
    },
    {
     "data": {
      "text/html": [
       "<pre style=\"white-space:pre;overflow-x:auto;line-height:normal;font-family:Menlo,'DejaVu Sans Mono',consolas,'Courier New',monospace\"><span style=\"font-weight: bold\"> Trainable params: </span><span style=\"color: #00af00; text-decoration-color: #00af00\">142,211</span> (555.51 KB)\n",
       "</pre>\n"
      ],
      "text/plain": [
       "\u001b[1m Trainable params: \u001b[0m\u001b[38;5;34m142,211\u001b[0m (555.51 KB)\n"
      ]
     },
     "metadata": {},
     "output_type": "display_data"
    },
    {
     "data": {
      "text/html": [
       "<pre style=\"white-space:pre;overflow-x:auto;line-height:normal;font-family:Menlo,'DejaVu Sans Mono',consolas,'Courier New',monospace\"><span style=\"font-weight: bold\"> Non-trainable params: </span><span style=\"color: #00af00; text-decoration-color: #00af00\">8,208,400</span> (31.31 MB)\n",
       "</pre>\n"
      ],
      "text/plain": [
       "\u001b[1m Non-trainable params: \u001b[0m\u001b[38;5;34m8,208,400\u001b[0m (31.31 MB)\n"
      ]
     },
     "metadata": {},
     "output_type": "display_data"
    },
    {
     "name": "stdout",
     "output_type": "stream",
     "text": [
      "None\n",
      "Epoch 1/6\n",
      "\u001b[1m1097/1097\u001b[0m \u001b[32m━━━━━━━━━━━━━━━━━━━━\u001b[0m\u001b[37m\u001b[0m \u001b[1m246s\u001b[0m 220ms/step - acc: 0.6169 - loss: 0.8293 - val_acc: 0.7232 - val_loss: 0.6542\n",
      "Epoch 2/6\n",
      "\u001b[1m1097/1097\u001b[0m \u001b[32m━━━━━━━━━━━━━━━━━━━━\u001b[0m\u001b[37m\u001b[0m \u001b[1m229s\u001b[0m 209ms/step - acc: 0.7246 - loss: 0.6385 - val_acc: 0.7596 - val_loss: 0.6015\n",
      "Epoch 3/6\n",
      "\u001b[1m1097/1097\u001b[0m \u001b[32m━━━━━━━━━━━━━━━━━━━━\u001b[0m\u001b[37m\u001b[0m \u001b[1m249s\u001b[0m 227ms/step - acc: 0.7682 - loss: 0.5650 - val_acc: 0.7884 - val_loss: 0.5432\n",
      "Epoch 4/6\n",
      "\u001b[1m1097/1097\u001b[0m \u001b[32m━━━━━━━━━━━━━━━━━━━━\u001b[0m\u001b[37m\u001b[0m \u001b[1m248s\u001b[0m 226ms/step - acc: 0.7907 - loss: 0.5234 - val_acc: 0.7894 - val_loss: 0.5252\n",
      "Epoch 5/6\n",
      "\u001b[1m1097/1097\u001b[0m \u001b[32m━━━━━━━━━━━━━━━━━━━━\u001b[0m\u001b[37m\u001b[0m \u001b[1m235s\u001b[0m 214ms/step - acc: 0.8109 - loss: 0.4907 - val_acc: 0.8114 - val_loss: 0.4932\n",
      "Epoch 6/6\n",
      "\u001b[1m1097/1097\u001b[0m \u001b[32m━━━━━━━━━━━━━━━━━━━━\u001b[0m\u001b[37m\u001b[0m \u001b[1m234s\u001b[0m 213ms/step - acc: 0.8212 - loss: 0.4641 - val_acc: 0.8235 - val_loss: 0.4781\n",
      "\u001b[1m1371/1371\u001b[0m \u001b[32m━━━━━━━━━━━━━━━━━━━━\u001b[0m\u001b[37m\u001b[0m \u001b[1m47s\u001b[0m 34ms/step - acc: 0.8215 - loss: 0.4805\n",
      "Test Score: 0.48125389218330383\n",
      "Test Accuracy: 0.8215417861938477\n"
     ]
    },
    {
     "data": {
      "image/png": "[encoded data removed]",
      "text/plain": [
       "<Figure size 640x480 with 1 Axes>"
      ]
     },
     "metadata": {},
     "output_type": "display_data"
    },
    {
     "data": {
      "image/png": "[encoded data removed]",
      "text/plain": [
       "<Figure size 640x480 with 1 Axes>"
      ]
     },
     "metadata": {},
     "output_type": "display_data"
    }
   ],
   "source": [
    "from tensorflow.keras.models import Sequential\n",
    "from tensorflow.keras.layers import Embedding, LSTM, Dense, Dropout\n",
    "\n",
    "lstm_model = Sequential([\n",
    "    Embedding(vocab_length, 100, weights=[embedding_matrix], input_length=maxlen, trainable=False),\n",
    "    LSTM(128, return_sequences=False),  # No need for GlobalMaxPooling1D\n",
    "    Dense(128, activation='relu'),\n",
    "    Dropout(0.5),\n",
    "    Dense(64, activation='relu'),\n",
    "    Dense(3, activation='softmax')  # For multi-class classification\n",
    "])\n",
    "\n",
    "lstm_model.build(input_shape=(None, maxlen))\n",
    "\n",
    "# Model compilation\n",
    "from tensorflow.keras.optimizers import Adam\n",
    "Optimizer = Adam(learning_rate=0.0005)  # Decrease the learning rate\n",
    "lstm_model.compile(optimizer=Optimizer,loss='categorical_crossentropy',metrics=['acc'])\n",
    "print(lstm_model.summary())\n",
    "\n",
    "# Model training\n",
    "lstm_model_history = lstm_model.fit(x_train, y_train, batch_size=128, epochs=6, verbose=1, validation_split=0.2)\n",
    "\n",
    "# Predictions on the Test Set\n",
    "score = lstm_model.evaluate(x_test, y_test, verbose=1)\n",
    "print(\"Test Score:\", score[0])\n",
    "print(\"Test Accuracy:\", score[1])\n",
    "\n",
    "# Model Performance Charts\n",
    "import matplotlib.pyplot as plt\n",
    "\n",
    "plt.plot(lstm_model_history.history['acc'])\n",
    "plt.plot(lstm_model_history.history['val_acc'])\n",
    "plt.title('Model Accuracy')\n",
    "plt.ylabel('Accuracy')\n",
    "plt.xlabel('Epoch')\n",
    "plt.legend(['Train', 'Test'], loc='upper left')\n",
    "plt.show()\n",
    "\n",
    "plt.plot(lstm_model_history.history['loss'])\n",
    "plt.plot(lstm_model_history.history['val_loss'])\n",
    "plt.title('Model Loss')\n",
    "plt.ylabel('Loss')\n",
    "plt.xlabel('Epoch')\n",
    "plt.legend(['Train', 'Test'], loc='upper left')\n",
    "plt.show()\n"
   ]
  },
  {
   "cell_type": "markdown",
   "id": "082d71f3",
   "metadata": {},
   "source": [
    "#### Evaluate and Compare Models (CNN vs LSTM)"
   ]
  },
  {
   "cell_type": "code",
   "execution_count": 166,
   "id": "b016edfd",
   "metadata": {},
   "outputs": [
    {
     "name": "stdout",
     "output_type": "stream",
     "text": [
      "\u001b[1m1371/1371\u001b[0m \u001b[32m━━━━━━━━━━━━━━━━━━━━\u001b[0m\u001b[37m\u001b[0m \u001b[1m9s\u001b[0m 6ms/step\n",
      "\u001b[1m1371/1371\u001b[0m \u001b[32m━━━━━━━━━━━━━━━━━━━━\u001b[0m\u001b[37m\u001b[0m \u001b[1m51s\u001b[0m 37ms/step\n"
     ]
    },
    {
     "data": {
      "image/png": "[encoded data removed]",
      "text/plain": [
       "<Figure size 640x480 with 2 Axes>"
      ]
     },
     "metadata": {},
     "output_type": "display_data"
    },
    {
     "data": {
      "image/png": "[encoded data removed]",
      "text/plain": [
       "<Figure size 640x480 with 2 Axes>"
      ]
     },
     "metadata": {},
     "output_type": "display_data"
    },
    {
     "name": "stdout",
     "output_type": "stream",
     "text": [
      "CNN Classification Report:\n",
      "               precision    recall  f1-score   support\n",
      "\n",
      "           0       0.85      0.90      0.87     21474\n",
      "           1       0.85      0.69      0.76     11204\n",
      "           2       0.60      0.64      0.62     11181\n",
      "\n",
      "    accuracy                           0.78     43859\n",
      "   macro avg       0.76      0.74      0.75     43859\n",
      "weighted avg       0.78      0.78      0.78     43859\n",
      "\n",
      "LSTM Classification Report:\n",
      "               precision    recall  f1-score   support\n",
      "\n",
      "           0       0.88      0.91      0.89     21474\n",
      "           1       0.85      0.80      0.82     11204\n",
      "           2       0.68      0.68      0.68     11181\n",
      "\n",
      "    accuracy                           0.82     43859\n",
      "   macro avg       0.80      0.79      0.80     43859\n",
      "weighted avg       0.82      0.82      0.82     43859\n",
      "\n"
     ]
    }
   ],
   "source": [
    "from sklearn.metrics import confusion_matrix, classification_report\n",
    "import seaborn as sns\n",
    "\n",
    "# Predictions\n",
    "y_pred_cnn = cnn_model.predict(x_test)\n",
    "y_pred_lstm = lstm_model.predict(x_test)\n",
    "\n",
    "# Convert predictions from one-hot encoding to label indices\n",
    "y_test_labels = np.argmax(y_test, axis=1)\n",
    "y_pred_cnn_labels = np.argmax(y_pred_cnn, axis=1)\n",
    "y_pred_lstm_labels = np.argmax(y_pred_lstm, axis=1)\n",
    "\n",
    "# Confusion Matrix for CNN\n",
    "conf_matrix_cnn = confusion_matrix(y_test_labels, y_pred_cnn_labels)\n",
    "sns.heatmap(conf_matrix_cnn, annot=True, fmt='d')\n",
    "plt.title('Confusion Matrix - CNN')\n",
    "plt.show()\n",
    "\n",
    "# Confusion Matrix for LSTM\n",
    "conf_matrix_lstm = confusion_matrix(y_test_labels, y_pred_lstm_labels)\n",
    "sns.heatmap(conf_matrix_lstm, annot=True, fmt='d')\n",
    "plt.title('Confusion Matrix - LSTM')\n",
    "plt.show()\n",
    "\n",
    "# Classification Report\n",
    "print(\"CNN Classification Report:\\n\", classification_report(y_test_labels, y_pred_cnn_labels))\n",
    "print(\"LSTM Classification Report:\\n\", classification_report(y_test_labels, y_pred_lstm_labels))\n"
   ]
  },
  {
   "cell_type": "code",
   "execution_count": 169,
   "id": "9ae21968",
   "metadata": {},
   "outputs": [
    {
     "name": "stdout",
     "output_type": "stream",
     "text": [
      "Epoch 1/6\n",
      "\u001b[1m1097/1097\u001b[0m \u001b[32m━━━━━━━━━━━━━━━━━━━━\u001b[0m\u001b[37m\u001b[0m \u001b[1m243s\u001b[0m 222ms/step - acc: 0.8336 - loss: 0.4457 - val_acc: 0.8297 - val_loss: 0.4685\n",
      "Epoch 2/6\n",
      "\u001b[1m1097/1097\u001b[0m \u001b[32m━━━━━━━━━━━━━━━━━━━━\u001b[0m\u001b[37m\u001b[0m \u001b[1m235s\u001b[0m 214ms/step - acc: 0.8443 - loss: 0.4220 - val_acc: 0.8344 - val_loss: 0.4835\n",
      "Epoch 3/6\n",
      "\u001b[1m1097/1097\u001b[0m \u001b[32m━━━━━━━━━━━━━━━━━━━━\u001b[0m\u001b[37m\u001b[0m \u001b[1m641s\u001b[0m 584ms/step - acc: 0.8515 - loss: 0.4080 - val_acc: 0.7979 - val_loss: 0.5192\n",
      "Epoch 4/6\n",
      "\u001b[1m1097/1097\u001b[0m \u001b[32m━━━━━━━━━━━━━━━━━━━━\u001b[0m\u001b[37m\u001b[0m \u001b[1m233s\u001b[0m 213ms/step - acc: 0.8538 - loss: 0.4005 - val_acc: 0.8324 - val_loss: 0.4568\n",
      "Epoch 5/6\n",
      "\u001b[1m1097/1097\u001b[0m \u001b[32m━━━━━━━━━━━━━━━━━━━━\u001b[0m\u001b[37m\u001b[0m \u001b[1m231s\u001b[0m 210ms/step - acc: 0.8607 - loss: 0.3859 - val_acc: 0.8384 - val_loss: 0.4453\n",
      "Epoch 6/6\n",
      "\u001b[1m1097/1097\u001b[0m \u001b[32m━━━━━━━━━━━━━━━━━━━━\u001b[0m\u001b[37m\u001b[0m \u001b[1m233s\u001b[0m 212ms/step - acc: 0.8605 - loss: 0.3839 - val_acc: 0.7769 - val_loss: 0.6034\n"
     ]
    }
   ],
   "source": [
    "from keras.callbacks import EarlyStopping, ModelCheckpoint\n",
    "\n",
    "early_stopping = EarlyStopping(monitor='val_loss', patience=3, restore_best_weights=True)\n",
    "checkpoint = ModelCheckpoint('best_model.keras', monitor='val_loss', save_best_only=True)\n",
    "\n",
    "# Training with callbacks\n",
    "lstm_model_history = lstm_model.fit(\n",
    "    x_train, y_train, \n",
    "    batch_size=128, \n",
    "    epochs=6, \n",
    "    verbose=1, \n",
    "    validation_split=0.2, \n",
    "    callbacks=[early_stopping, checkpoint]\n",
    ")\n"
   ]
  },
  {
   "cell_type": "code",
   "execution_count": 171,
   "id": "c472fa4c",
   "metadata": {},
   "outputs": [],
   "source": [
    "\n",
    "# Save the model using the native Keras format\n",
    "lstm_model.save(f\"./c1_lstm_model_acc_{round(score[1], 3)}.keras\")\n"
   ]
  },
  {
   "cell_type": "code",
   "execution_count": null,
   "id": "2f60dd47",
   "metadata": {},
   "outputs": [],
   "source": []
  }
 ],
 "metadata": {
  "kernelspec": {
   "display_name": "venv",
   "language": "python",
   "name": "python3"
  },
  "language_info": {
   "codemirror_mode": {
    "name": "ipython",
    "version": 3
   },
   "file_extension": ".py",
   "mimetype": "text/x-python",
   "name": "python",
   "nbconvert_exporter": "python",
   "pygments_lexer": "ipython3",
   "version": "3.11.9"
  }
 },
 "nbformat": 4,
 "nbformat_minor": 5
}
